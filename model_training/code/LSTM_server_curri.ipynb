{
 "cells": [
  {
   "cell_type": "markdown",
   "metadata": {},
   "source": [
    "# Training the model"
   ]
  },
  {
   "cell_type": "code",
   "execution_count": 1,
   "metadata": {},
   "outputs": [],
   "source": [
    "%matplotlib inline\n",
    "%load_ext autoreload\n",
    "%autoreload 2"
   ]
  },
  {
   "cell_type": "code",
   "execution_count": 86,
   "metadata": {},
   "outputs": [],
   "source": [
    "from multiprocessing import cpu_count\n",
    "from pathlib import Path\n",
    "import matplotlib.pyplot as plt\n",
    "import numpy as np\n",
    "import pandas as pd\n",
    "from sklearn.model_selection import train_test_split\n",
    "from sklearn.preprocessing import LabelEncoder\n",
    "import torch\n",
    "from torch import nn\n",
    "from torch.nn import functional as F\n",
    "from torch.utils.data import Dataset, TensorDataset, DataLoader, WeightedRandomSampler\n",
    "from torch.optim.lr_scheduler import _LRScheduler\n",
    "import os\n",
    "import pickle\n",
    "import random\n",
    "from random import randint\n",
    "from sklearn.metrics import confusion_matrix, log_loss, matthews_corrcoef ## modified by Jason 0623\n",
    "from time import strftime\n",
    "from csv import writer\n",
    "import shutil\n",
    "import krippendorff as kd # need pip install krippendorff\n",
    "# from torchvision.transforms import Normalize"
   ]
  },
  {
   "cell_type": "code",
   "execution_count": 128,
   "metadata": {},
   "outputs": [],
   "source": [
    "######### general hyper-parameters\n",
    "PU_LEARNING = True\n",
    "LEN_MIN = 100 # the fixed seq length (in frame, and the data source is 25fps) of each training samples, the training sample smaller than this length will be filtered away\n",
    "INTERVAL = 4 # it means sampling once for every XX data points, so the actual seq length becomes len_min/interval\n",
    "\n",
    "DATA_PATH = Path(\"../data\")\n",
    "MODEL_PATH = Path(\"../model\")    \n",
    "DATA_FOLDER=Path('preprocessed/data_sample')\n",
    "\n",
    "folder = [DATA_PATH / \"train\", DATA_PATH / \"test\", DATA_PATH / \"val\"] # the directories of train, test, and val dataset, NOTE THAT it requires preprocessed data, not raw data\n",
    "# path_prior = DATA_PATH / \"train\" / \"distribution.csv\" # the file that stores training data label (0/1) distribution used for PULearning\n",
    "\n",
    "TRAIN_TYPE = \"latest\" # define the type of training, choose 1 from {'latest', 'random', 'curri'}, see the details in def __getitem__(self, idx)\n",
    "VAL_TYPES = [\"human\"] # define the type of validation, choose 1 or more from {'latest', 'random', 'curri', 'human'}. Use '[]' even you only choose 1.  ## modified by Jason 0623\n",
    "# note that only the first type in the val_types will be recorded in history.csv\n",
    "\n",
    "\n",
    "######### "
   ]
  },
  {
   "cell_type": "code",
   "execution_count": 4,
   "metadata": {
    "tags": []
   },
   "outputs": [],
   "source": [
    "######### model-related hyper-parameters\n",
    "SAVENAME = 'c_b_19d_128_128_128_PU' # the name for the model\n",
    "FEATURE_COL = np.arange(0,19) # this is to further select features after preprocessing. \n",
    "# e.g. if the feature after preprocessing is 19d, you may further select 17d from it.\n",
    "\n",
    "bs = 64 # batch size\n",
    "input_dim = len(FEATURE_COL)\n",
    "conv1_dim = 128\n",
    "conv2_dim = 128\n",
    "lstm_dim = 128\n",
    "layer_dim = 1\n",
    "output_dim = 1\n",
    "hidden1_dim = 128\n",
    "hidden2_dim = 128\n",
    "\n",
    "lr = 0.0002\n",
    "n_epochs = 500\n",
    "patience = 999\n",
    "    \n",
    "#########"
   ]
  },
  {
   "cell_type": "code",
   "execution_count": 5,
   "metadata": {},
   "outputs": [],
   "source": [
    "def setseed(seed):\n",
    "    random.seed(seed)\n",
    "    np.random.seed(seed)\n",
    "    torch.manual_seed(seed)\n",
    "    \n",
    "setseed(0)\n",
    "torch.cuda.set_device(0)  # choose the gpu_id you want to use"
   ]
  },
  {
   "cell_type": "markdown",
   "metadata": {},
   "source": [
    "## Load the Data\n",
    "First of all, we read the files and drop the irrelavant columns."
   ]
  },
  {
   "cell_type": "code",
   "execution_count": 6,
   "metadata": {},
   "outputs": [],
   "source": [
    "class MyDataset(Dataset): # curriculum learning\n",
    "    def __init__(self, datapath, data_len, interval, sampling_type='random', start_pos=None, feature_col=FEATURE_COL):\n",
    "        self.data_files = datapath\n",
    "        self.interval = interval\n",
    "        self.data_len = data_len # the expected length of each training sample\n",
    "        self.epoch = 0 # current_epoch/max_epoch\n",
    "        self.curriculum = sampling_type # {'latest', 'random', 'curri'}\n",
    "        self.feature_col = feature_col\n",
    "        self.start_pos = start_pos\n",
    "    \n",
    "    def __getitem__(self, idx): # this function takes a random interval from the range of x\n",
    "        with open(self.data_files[idx], 'rb') as f:\n",
    "            x_id, y_id, data = pickle.load(f)\n",
    "            \n",
    "        if self.start_pos:\n",
    "            start = self.start_pos[idx]\n",
    "        else:\n",
    "            # get the end part from the data\n",
    "            if self.curriculum == 'latest':\n",
    "                start = len(data)-self.data_len\n",
    "\n",
    "            # get a random part of the data\n",
    "            elif self.curriculum == 'random':\n",
    "                start = randint(0,len(data)-self.data_len)\n",
    "\n",
    "            # gradually change from a to b according to current_epoch/max_epoch\n",
    "            elif self.curriculum == 'curri': \n",
    "                tail = len(data)-self.data_len\n",
    "                head = int(tail*(1-self.epoch))\n",
    "                start = randint(head, tail)\n",
    "\n",
    "            else:\n",
    "                print(f\"sampling type {self.curriculum} is not valid!\")\n",
    "\n",
    "        x = data[start:start+self.data_len:self.interval, self.feature_col]\n",
    "        y = np.array([1.]) if x_id==y_id else np.array([0.])\n",
    "        source_file = str(self.data_files[idx]) # this line is newly added\n",
    "        return np.float32(x), y, source_file\n",
    "        \n",
    "    def __len__(self):\n",
    "        return len(self.data_files)\n",
    "    \n",
    "\n",
    "def collate_fn(batch):\n",
    "    batch = list(filter(lambda x: x is not None, batch))\n",
    "    return torch.utils.data.dataloader.default_collate(batch)\n",
    "\n",
    "def get_datapath(folder, data_folder):\n",
    "    subfolder = [folder / f for f in os.listdir(folder) if not f.startswith('.') and os.path.isdir(folder / f)]\n",
    "    subsubfolder = []\n",
    "    for i in subfolder:\n",
    "        if os.path.isdir(i / data_folder): \n",
    "            temp = [i / data_folder / f for f in os.listdir(i / data_folder) if not f.startswith('.') and os.path.isfile(i / data_folder / f)]\n",
    "            subsubfolder = subsubfolder + temp\n",
    "    return subsubfolder\n",
    "\n",
    "def filterlength(datapath, data_len): # check data sample length and get label distribution (balance) in advance\n",
    "    path = datapath[0].parents[3] # /data/{train, test, val}/\n",
    "    filename = path / \".datapath_filtered\" / (\"data\"+path.name+\"_\"+str(data_len))\n",
    "    labelfile = path / \".datapath_filtered\" / (\"label\"+path.name+\"_\"+str(data_len))\n",
    "\n",
    "    if os.path.isfile(filename) and os.path.isfile(labelfile):\n",
    "        with open(filename, 'rb') as f:\n",
    "            datapath_filtered = pickle.load(f)\n",
    "        with open(labelfile, 'rb') as f:\n",
    "            label = pickle.load(f)\n",
    "    else:  \n",
    "        datapath_filtered=[]\n",
    "        label=[]\n",
    "        for i in datapath:\n",
    "            with open(i, 'rb') as f:\n",
    "                x_id, y_id, data = pickle.load(f)\n",
    "            if len(data) >= data_len:\n",
    "                datapath_filtered.append(i)\n",
    "                y = 1 if x_id==y_id else 0\n",
    "                label.append(y)\n",
    "        os.makedirs(filename.parent, exist_ok=True)\n",
    "        with open(filename, 'wb') as f:\n",
    "            pickle.dump(datapath_filtered, f)\n",
    "        with open(labelfile, 'wb') as f:\n",
    "            pickle.dump(label, f)\n",
    "        print(\"data filtered by length have been saved.\")\n",
    "\n",
    "    return datapath_filtered, label\n",
    "\n",
    "def create_sampler(label): # create sample weights for data imbalance\n",
    "    class_sample_count = np.array([label.count(0), label.count(1)])\n",
    "    # Handling potential division by zero errors\n",
    "    if class_sample_count[0] == 0 or class_sample_count[1] == 0:\n",
    "        print(\"Error: One or both classes are missing in the labels.\")\n",
    "        return None\n",
    "    \n",
    "    weight = 1./class_sample_count\n",
    "    samples_weight = np.array([weight[t] for t in label])\n",
    "    sampler = WeightedRandomSampler(samples_weight, len(samples_weight))\n",
    "    return sampler"
   ]
  },
  {
   "cell_type": "code",
   "execution_count": 7,
   "metadata": {},
   "outputs": [
    {
     "name": "stdout",
     "output_type": "stream",
     "text": [
      "Preparing datasets\n"
     ]
    }
   ],
   "source": [
    "print('Preparing datasets')\n",
    "\n",
    "trn_datapath, trn_label = filterlength(get_datapath(folder[0], DATA_FOLDER),LEN_MIN)\n",
    "val_datapath, val_label = filterlength(get_datapath(folder[2], DATA_FOLDER),LEN_MIN)"
   ]
  },
  {
   "cell_type": "markdown",
   "metadata": {},
   "source": [
    "## Implementation of PU Loss\n",
    "source: https://github.com/cimeister/pu-learning/blob/master/loss.py  \n",
    "example: https://github.com/cimeister/pu-learning/blob/master/run_classifier.py"
   ]
  },
  {
   "cell_type": "code",
   "execution_count": 8,
   "metadata": {},
   "outputs": [],
   "source": [
    "class PULoss(nn.Module):\n",
    "    \"\"\"wrapper of loss function for PU learning\"\"\"\n",
    "\n",
    "    def __init__(self, prior, loss=(lambda x: torch.sigmoid(-x)), gamma=1, beta=0, nnPU=False):\n",
    "        super(PULoss,self).__init__()\n",
    "        if not 0 < prior < 1:\n",
    "            raise NotImplementedError(\"The class prior should be in (0, 1)\")\n",
    "        self.prior = prior\n",
    "        self.gamma = gamma\n",
    "        self.beta = beta\n",
    "        self.loss_func = loss #lambda x: (torch.tensor(1., device=x.device) - torch.sign(x))/torch.tensor(2, device=x.device)\n",
    "        self.nnPU = nnPU\n",
    "        self.positive = 1\n",
    "        self.unlabeled = 0\n",
    "        self.min_count = torch.tensor(1.)\n",
    "    \n",
    "    def forward(self, inp, target, test=False):\n",
    "        assert(inp.shape == target.shape)        \n",
    "        positive, unlabeled = target == self.positive, target == self.unlabeled\n",
    "        positive, unlabeled = positive.type(torch.float), unlabeled.type(torch.float)\n",
    "        if inp.is_cuda:\n",
    "            self.min_count = self.min_count.cuda()\n",
    "#             self.prior = self.prior.cuda()\n",
    "        n_positive, n_unlabeled = torch.max(self.min_count, torch.sum(positive)), torch.max(self.min_count, torch.sum(unlabeled))\n",
    "        \n",
    "        y_positive = self.loss_func(positive*inp) * positive\n",
    "        y_positive_inv = self.loss_func(-positive*inp) * positive\n",
    "        y_unlabeled = self.loss_func(-unlabeled*inp) * unlabeled\n",
    "\n",
    "        positive_risk = self.prior * torch.sum(y_positive)/ n_positive\n",
    "        negative_risk = - self.prior *torch.sum(y_positive_inv)/ n_positive + torch.sum(y_unlabeled)/n_unlabeled\n",
    "\n",
    "        if negative_risk < -self.beta and self.nnPU:\n",
    "            return -self.gamma * negative_risk\n",
    "        else:\n",
    "            return positive_risk+negative_risk"
   ]
  },
  {
   "cell_type": "markdown",
   "metadata": {},
   "source": [
    "## create LSTM Model\n",
    "Our classifier contains of several LSTM cells (hidden under the hood of nn.LSTM), and one nn.Linear layer. Note that we use batch_first=True to make sure that the first dimension of our tensors is interpreted as a batch size, and the next one - as a time dimension."
   ]
  },
  {
   "cell_type": "code",
   "execution_count": 9,
   "metadata": {},
   "outputs": [],
   "source": [
    "class ConvLSTMClassifier(nn.Module):\n",
    "    \n",
    "    def __init__(self, input_dim, conv1_dim, conv2_dim, lstm_dim, layer_dim, output_dim):\n",
    "        super().__init__()\n",
    "        self.lstm_dim = lstm_dim\n",
    "        self.layer_dim = layer_dim\n",
    "        self.cnn1 = nn.Conv1d(input_dim, conv1_dim, kernel_size=5, stride=2, padding=0)\n",
    "        self.cnn2 = nn.Conv1d(conv1_dim, conv2_dim, kernel_size=5, stride=2, padding=0)\n",
    "        self.bn1 = nn.BatchNorm1d(conv1_dim)\n",
    "        self.bn2 = nn.BatchNorm1d(conv2_dim)\n",
    "        self.prelu1 = nn.PReLU()\n",
    "        self.prelu2 = nn.PReLU()\n",
    "        self.dropout1 = nn.Dropout(p=0.2)\n",
    "        self.dropout2 = nn.Dropout(p=0.5)\n",
    "        self.rnn = nn.LSTM(conv2_dim, lstm_dim, layer_dim, batch_first=True)\n",
    "        self.fc = nn.Linear(lstm_dim, output_dim)\n",
    "        self.batch_size = None\n",
    "        self.hidden = None\n",
    "    \n",
    "    def forward(self, x):\n",
    "        x = x.permute(0, 2, 1) # swap dimension (1,2) because Conv1d requires (batch, feature, seq), where the LSTM input is (batch, seq, feature)\n",
    "        x = self.cnn1(x)\n",
    "        x = self.prelu1(self.bn1(x)) # bn-layer's input is (batch, feature, seq)\n",
    "        x = self.dropout1(x)\n",
    "        x = self.cnn2(x)\n",
    "        x = self.prelu2(self.bn2(x))\n",
    "        x = self.dropout2(x)\n",
    "        x = x.permute(0, 2, 1) # now x is (batch, seq, feature)\n",
    "        h0, c0 = self.init_hidden(x)\n",
    "        out, (hn, cn) = self.rnn(x, (h0, c0))\n",
    "        out4inference = out[:, -1, :]\n",
    "        out = self.fc(out4inference)\n",
    "        return out, out4inference\n",
    "    \n",
    "    def init_hidden(self, x):\n",
    "        h0 = torch.zeros(self.layer_dim, x.size(0), self.lstm_dim)\n",
    "        c0 = torch.zeros(self.layer_dim, x.size(0), self.lstm_dim)\n",
    "        return [t.cuda() for t in (h0, c0)]\n",
    "    \n",
    "# class LSTMClassifier(nn.Module):\n",
    "#     \"\"\"Very simple implementation of LSTM-based time-series classifier.\"\"\"\n",
    "    \n",
    "#     def __init__(self, input_dim, hidden1_dim, hidden2_dim, layer_dim, output_dim):\n",
    "#         super().__init__()\n",
    "#         self.fc1 = nn.Linear(input_dim, hidden1_dim)\n",
    "#         self.bn = nn.BatchNorm1d(hidden1_dim)\n",
    "#         self.prelu = nn.PReLU()\n",
    "#         self.rnn = nn.LSTM(hidden1_dim, hidden2_dim, layer_dim, batch_first=True, bidirectional=False)\n",
    "#         self.fc2 = nn.Linear(hidden2_dim, output_dim)\n",
    "    \n",
    "#     def forward(self, x): # input is (batch, seq, feature)\n",
    "#         x = self.fc1(x)\n",
    "#         x = x.permute(0, 2, 1) # bn layer expects input of (batch, feature, seq)\n",
    "#         x = self.prelu(self.bn(x)) \n",
    "#         x = x.permute(0, 2, 1) # lstm layer expects input of (batch, seq, feature)\n",
    "#         out, (hn, cn) = self.rnn(x)\n",
    "#         out4inference = out[:, -1, :]\n",
    "#         out = self.fc2(out4inference)\n",
    "#         return out,out4inference"
   ]
  },
  {
   "cell_type": "markdown",
   "metadata": {},
   "source": [
    "## Training Loop\n",
    "Finally, we are ready to bring everything together and train the model."
   ]
  },
  {
   "cell_type": "code",
   "execution_count": 119,
   "metadata": {},
   "outputs": [],
   "source": [
    "def my_plot(epochs, loss, loss_val, filename):\n",
    "    num_subplots = len(loss_val)+1\n",
    "    fig, axes = plt.subplots(num_subplots, 1, figsize=(10, 2*num_subplots))\n",
    "    ax = axes[0]\n",
    "    ax.plot(epochs, loss, 'bo-')\n",
    "    ax.set_xlabel('epoch')\n",
    "    ax.set_ylabel('train loss')\n",
    "    i=1\n",
    "    for key, value in loss_val.items():\n",
    "        ax = axes[i]\n",
    "        i+=1\n",
    "        ax.plot(epochs, value, 'ro-')\n",
    "        ax.set_xlabel('epoch')\n",
    "        ax.set_ylabel('val loss '+key)\n",
    "    plt.tight_layout()\n",
    "    if filename:\n",
    "        plt.savefig(MODEL_PATH / SAVENAME / (filename+\".pdf\"), format=\"pdf\", bbox_inches=\"tight\")\n",
    "    plt.show()\n",
    "\n",
    "        \n",
    "def write_csv(filepath, cm_train, cm_val, loss_train, loss_val):\n",
    "    n=cm_val.sum()\n",
    "    TN_val = cm_val[0][0]/n\n",
    "    FN_val = cm_val[1][0]/n\n",
    "    TP_val = cm_val[1][1]/n\n",
    "    FP_val = cm_val[0][1]/n\n",
    "    acc_val = TN_val+TP_val\n",
    "    N=cm_train.sum()\n",
    "    TN_train = cm_train[0][0]/N\n",
    "    FN_train = cm_train[1][0]/N\n",
    "    TP_train = cm_train[1][1]/N\n",
    "    FP_train = cm_train[0][1]/N\n",
    "    acc_train = TN_train+TP_train\n",
    "    row = [loss_train,acc_train,TP_train,FP_train,TN_train,FN_train,loss_val,acc_val,TP_val,FP_val,TN_val,FN_val]\n",
    "    with open(filepath, 'a', newline='') as f:\n",
    "        csv_writer = writer(f)\n",
    "        csv_writer.writerow(map(lambda t: \"%.4f\" % t, row))  \n",
    "\n",
    "## ----------- modified by Jason 0623 ----------- \n",
    "def model_eval(val_dl):\n",
    "    model.eval()\n",
    "    correct, total = 0, 0\n",
    "    cm_val = np.array([[0,0],[0,0]])\n",
    "    running_loss = 0.0\n",
    "    y_preds,y_label=[],[]\n",
    "\n",
    "    for x_val, y_val, _ in val_dl:\n",
    "        x_val, y_val = [t.cuda() for t in (x_val, y_val)]\n",
    "        out,_ = model(x_val)\n",
    "        preds = torch.sigmoid(out)>0.5\n",
    "        total += y_val.size(0)\n",
    "        # correct += (preds == y_val).sum().item()\n",
    "        cm_val += confusion_matrix(y_val.cpu(), preds.cpu())\n",
    "        loss_val = criterion(out, y_val)\n",
    "        running_loss += loss_val.item() * y_val.shape[0]\n",
    "        y_preds+=preds.cpu().detach().flatten().tolist()\n",
    "        y_label+=y_val.cpu().detach().flatten().tolist()\n",
    "\n",
    "    epoch_loss = running_loss/total \n",
    "    acc = np.mean(y_preds == y_label)\n",
    "    mcc = matthews_corrcoef(y_label, y_preds)    \n",
    "    return epoch_loss, mcc, cm_val\n",
    "## ----------- modified by Jason 0623 ----------- \n",
    "\n",
    "def add2dict(dictionary, key, value):\n",
    "    if key not in dictionary:\n",
    "        dictionary[key] = [value]\n",
    "    elif type(dictionary[key]) == list:\n",
    "        dictionary[key].append(value)\n",
    "    else:\n",
    "        dictionary[key] = [dictionary[key], value]"
   ]
  },
  {
   "cell_type": "code",
   "execution_count": 129,
   "metadata": {
    "tags": []
   },
   "outputs": [
    {
     "name": "stdout",
     "output_type": "stream",
     "text": [
      "Start model training\n",
      "Epoch 2 best model saved with MCC: 0.01512\n",
      "Epoch 8 best model saved with MCC: 0.03239\n",
      "Epoch:  10. Loss: 0.4438. MCC: human: -0.02009\n",
      "Epoch 14 best model saved with MCC: 0.06014\n",
      "Epoch:  20. Loss: 0.3110. MCC: human: 0.009173\n",
      "Epoch:  30. Loss: 0.1314. MCC: human: 0.006073\n",
      "Epoch:  40. Loss: -0.0165. MCC: human: -0.0571\n",
      "Epoch:  50. Loss: -0.0505. MCC: human: -0.06482\n",
      "Epoch:  60. Loss: -0.0592. MCC: human: -0.07576\n",
      "Epoch:  70. Loss: -0.1158. MCC: human: -0.03557\n",
      "Epoch:  80. Loss: -0.1415. MCC: human: -0.03557\n",
      "Epoch:  90. Loss: -0.1484. MCC: human: -0.01552\n",
      "Epoch: 100. Loss: -0.1793. MCC: human: -0.02024\n",
      "Epoch: 110. Loss: -0.2456. MCC: human: -0.04251\n",
      "Epoch: 120. Loss: -0.1502. MCC: human: -0.06191\n",
      "Epoch: 130. Loss: -0.1633. MCC: human: -0.02676\n",
      "Epoch: 140. Loss: -0.1510. MCC: human: -0.02024\n",
      "Epoch: 150. Loss: -0.1751. MCC: human: -0.09353\n",
      "Epoch: 160. Loss: -0.2387. MCC: human: -0.05448\n",
      "Epoch: 170. Loss: -0.2690. MCC: human: -0.03357\n",
      "Epoch: 180. Loss: -0.2394. MCC: human: -0.03539\n",
      "Epoch: 190. Loss: -0.2635. MCC: human: -0.04656\n",
      "Epoch: 200. Loss: -0.2346. MCC: human: -0.04503\n",
      "Epoch: 210. Loss: -0.1791. MCC: human: -0.04656\n",
      "Epoch: 220. Loss: -0.2351. MCC: human: -0.06278\n",
      "Epoch: 230. Loss: -0.2515. MCC: human: -0.05325\n",
      "Epoch: 240. Loss: -0.2788. MCC: human: -0.07153\n",
      "Epoch: 250. Loss: -0.2747. MCC: human: -0.05209\n",
      "Epoch: 260. Loss: -0.2550. MCC: human: -0.05209\n",
      "Epoch: 270. Loss: -0.2532. MCC: human: -0.02339\n",
      "Epoch: 280. Loss: -0.2668. MCC: human: -0.04352\n",
      "Epoch: 290. Loss: -0.2842. MCC: human: -0.06191\n",
      "Epoch: 300. Loss: -0.2890. MCC: human: -0.06117\n",
      "Epoch: 310. Loss: -0.2996. MCC: human: -0.08087\n",
      "Epoch: 320. Loss: -0.3333. MCC: human: -0.051\n",
      "Epoch: 330. Loss: -0.3338. MCC: human: -0.08131\n",
      "Epoch: 340. Loss: -0.2687. MCC: human: -0.07086\n",
      "Epoch: 350. Loss: -0.2372. MCC: human: -0.07131\n",
      "Epoch: 360. Loss: -0.2922. MCC: human: -0.06059\n",
      "Epoch: 370. Loss: -0.2557. MCC: human: -0.06596\n",
      "Epoch: 380. Loss: -0.3199. MCC: human: -0.1086\n",
      "Epoch: 390. Loss: -0.3104. MCC: human: -0.08184\n",
      "Epoch: 400. Loss: -0.3069. MCC: human: -0.06059\n",
      "Epoch: 410. Loss: -0.2761. MCC: human: -0.09923\n",
      "Epoch: 420. Loss: -0.3297. MCC: human: -0.06117\n",
      "Epoch: 430. Loss: -0.3151. MCC: human: -0.09953\n",
      "Epoch: 440. Loss: -0.3050. MCC: human: -0.051\n",
      "Epoch: 450. Loss: -0.2667. MCC: human: -0.09025\n",
      "Epoch: 460. Loss: -0.2879. MCC: human: -0.04427\n",
      "Epoch: 470. Loss: -0.3166. MCC: human: -0.06845\n",
      "Epoch: 480. Loss: -0.3145. MCC: human: -0.09953\n",
      "Epoch: 490. Loss: -0.3336. MCC: human: -0.05325\n",
      "Epoch: 500. Loss: -0.2242. MCC: human: -0.09025\n"
     ]
    }
   ],
   "source": [
    "if not SAVENAME:\n",
    "    SAVENAME = 'temp'\n",
    "(MODEL_PATH / SAVENAME).mkdir(parents=True, exist_ok=True)\n",
    "\n",
    "best_acc = 0\n",
    "trials = 0\n",
    "epoch_loss=[]\n",
    "epoch_loss_val={}\n",
    "acc, cm_val = {}, {}\n",
    "val_ds, val_dl = {}, {}\n",
    "\n",
    "model = ConvLSTMClassifier(input_dim, conv1_dim, conv2_dim, lstm_dim, layer_dim, output_dim)\n",
    "model = model.cuda()\n",
    "\n",
    "if PU_LEARNING:\n",
    "    criterion = PULoss(prior=0.5) # use prior=prior if oversampling is disabled\n",
    "else:\n",
    "    criterion = nn.BCEWithLogitsLoss() # nn.CrossEntropyLoss() # bug: change to binary entropy loss\n",
    "\n",
    "opt = torch.optim.RAdam(model.parameters(), lr=lr)\n",
    "sched=None\n",
    "\n",
    "timestr = strftime(\"%Y%m%d-%H%M%S\")\n",
    "filepath = MODEL_PATH / SAVENAME / (\"history_\"+timestr+'.csv')# for saving history\n",
    "field_names = ['loss_train','acc_train','TP_train','FP_train','TN_train','FN_train','loss_val','acc_val','TP_val','FP_val','TN_val','FN_val']\n",
    "with open(filepath, 'a', newline='') as f:\n",
    "    csv_writer = writer(f)\n",
    "    csv_writer.writerow(field_names)\n",
    "    \n",
    "trn_ds   = MyDataset(trn_datapath, data_len=LEN_MIN, interval=INTERVAL, sampling_type=TRAIN_TYPE)\n",
    "trn_dl   = DataLoader(trn_ds, batch_size=bs, shuffle=False, collate_fn=collate_fn, num_workers=0, sampler=create_sampler(trn_label))\n",
    "\n",
    "for val_type in VAL_TYPES:\n",
    "    ## ----------- modified by Jason 0623 ----------- \n",
    "    if val_type == 'human':\n",
    "        mode = 'val' \n",
    "        csv_path = DATA_PATH / 'human_annotation' / ('vimeo_'+mode) / 'test_result.csv'\n",
    "        df=pd.read_csv(csv_path)\n",
    "        start_pos = df[\"start_pos\"].values.tolist()\n",
    "        data_id = df[\"data_id\"].values.tolist()\n",
    "        file_id = df[\"file_id\"].values.tolist()\n",
    "        datapath = [DATA_PATH / 'human_annotation' / ('vimeo_'+mode) / (mode+'_vimeo_'+ str(i)) / 'data_sample' / str(j) for (i,j) in zip(file_id, data_id)]\n",
    "        non_nan_index = df.index[df['result'].notna()]\n",
    "        feature_col_annotation = np.append(np.arange(1, 3), np.arange(179, 196)) \n",
    "        val_ds[val_type] = MyDataset(datapath, data_len=LEN_MIN, interval=INTERVAL, start_pos=start_pos, feature_col=feature_col_annotation) \n",
    "        val_dl[val_type] = DataLoader(val_ds[val_type], batch_size=1, shuffle=False, num_workers=0, sampler=None)\n",
    "        value_mapping = {'want_speak': 1, 'if_speak': 1, 'other': 0} # adjust 'if_speak' here to 0 or 1\n",
    "        label_human = df['result'][non_nan_index].map(value_mapping).values # human annotator majority voting\n",
    "    else:\n",
    "    ## ----------- modified by Jason 0623 -----------     \n",
    "        val_ds[val_type] = MyDataset(val_datapath, data_len=LEN_MIN, interval=INTERVAL, sampling_type=val_type)\n",
    "        val_dl[val_type] = DataLoader(val_ds[val_type], batch_size=bs, shuffle=False, collate_fn=collate_fn, num_workers=0, sampler=create_sampler(val_label))\n",
    "\n",
    "print('Start model training')\n",
    "\n",
    "for epoch in range(1, n_epochs + 1):\n",
    "    setseed(epoch)\n",
    "    \n",
    "    trn_ds.epoch = epoch/n_epochs\n",
    "    for val_type in VAL_TYPES:\n",
    "        val_ds[val_type].epoch = epoch/n_epochs\n",
    "    \n",
    "    cm_train = np.array([[0,0],[0,0]])\n",
    "    running_loss = 0.0\n",
    "    \n",
    "    for i, (x_batch, y_batch, _) in enumerate(trn_dl):\n",
    "        model.train()\n",
    "        x_batch = x_batch.cuda()\n",
    "        y_batch = y_batch.cuda()\n",
    "        opt.zero_grad()\n",
    "        out,_ = model(x_batch)\n",
    "        preds = torch.sigmoid(out)>0.5\n",
    "        loss = criterion(out, y_batch)\n",
    "        loss.backward()\n",
    "        opt.step()\n",
    "        cm_train += confusion_matrix(y_batch.cpu(), preds.cpu())\n",
    "        running_loss += loss.item() * y_batch.shape[0]         \n",
    "                \n",
    "    epoch_loss.append(running_loss / len(trn_ds))\n",
    "    \n",
    "    #### validation ####\n",
    "\n",
    "    for val_type in VAL_TYPES:\n",
    "        ## ----------- modified by Jason 0623 ----------- \n",
    "        if val_type == 'human':\n",
    "            preds=[]\n",
    "            model.eval()\n",
    "            for x_val, y_val, sourcefile in val_dl[val_type]:\n",
    "                x_val, y_val = [t.cuda() for t in (x_val, y_val)]\n",
    "                out, out4inference = model(x_val)\n",
    "                pred = torch.sigmoid(out)\n",
    "                pred = pred.cpu().detach().flatten().tolist()\n",
    "                # preds.append(pred[0][0])\n",
    "                preds += pred\n",
    "            preds = np.array(preds)[non_nan_index]\n",
    "            loss_temp = log_loss(label_human, preds)\n",
    "            preds = preds > 0.5\n",
    "            cm_val[val_type] = confusion_matrix(label_human, preds)            \n",
    "            mcc = matthews_corrcoef(label_human, preds)\n",
    "            # acc[val_type] = np.mean(preds == label_human)\n",
    "            acc[val_type] = mcc # use mcc instead of accuracy\n",
    "            add2dict(epoch_loss_val, val_type, loss_temp)\n",
    "        else:\n",
    "        ## ----------- modified by Jason 0623 ----------- \n",
    "            setseed(0)\n",
    "            loss_temp, acc[val_type], cm_val[val_type] = model_eval(val_dl[val_type])\n",
    "            add2dict(epoch_loss_val, val_type, loss_temp)\n",
    "    \n",
    "    #### save log ####\n",
    "    \n",
    "    write_csv(filepath=filepath, cm_train=cm_train, cm_val=next(iter(cm_val.values())), loss_train=epoch_loss[-1], loss_val=next(iter(epoch_loss_val.values()))[-1])\n",
    "\n",
    "    if epoch % 10 == 0:\n",
    "        acc_print = \", \".join([f\"{key}: {value:.4}\" for key, value in acc.items()])  ## modified by Jason 0623\n",
    "        print(f'Epoch: {epoch:3d}. Loss: {epoch_loss[-1]:.4f}. MCC: {acc_print}')  ## modified by Jason 0623\n",
    "\n",
    "    acc_max = max(acc.values(), key=lambda x: max(x) if isinstance(x, list) else x)\n",
    "    if acc_max > best_acc:\n",
    "        trials = 0\n",
    "        best_acc = acc_max\n",
    "        torch.save(model.state_dict(), MODEL_PATH / SAVENAME / 'best.pth')\n",
    "        print(f'Epoch {epoch} best model saved with MCC: {best_acc:.4}')  ## modified by Jason 0623\n",
    "    else:\n",
    "        trials += 1\n",
    "        if trials >= patience:\n",
    "            print(f'Early stopping on epoch {epoch}')\n",
    "            break\n",
    "        \n",
    "torch.save(model.state_dict(), MODEL_PATH / SAVENAME / 'last.pth') "
   ]
  },
  {
   "cell_type": "code",
   "execution_count": 130,
   "metadata": {
    "tags": []
   },
   "outputs": [
    {
     "data": {
      "image/png": "[encoded data removed]",
      "text/plain": [
       "<Figure size 1000x400 with 2 Axes>"
      ]
     },
     "metadata": {},
     "output_type": "display_data"
    }
   ],
   "source": [
    "my_plot(np.arange(1, epoch+1), epoch_loss, epoch_loss_val, filename='Loss')   "
   ]
  },
  {
   "cell_type": "markdown",
   "metadata": {},
   "source": [
    "# Evaluation"
   ]
  },
  {
   "cell_type": "markdown",
   "metadata": {},
   "source": [
    "## use t-SNE to visualize features"
   ]
  },
  {
   "cell_type": "code",
   "execution_count": 14,
   "metadata": {
    "tags": []
   },
   "outputs": [],
   "source": [
    "def load_model():\n",
    "    model = ConvLSTMClassifier(input_dim, conv1_dim, conv2_dim, lstm_dim, layer_dim, output_dim)\n",
    "    model = model.cuda()\n",
    "    model_file = MODEL_PATH / SAVENAME / (whichmodel+'.pth')\n",
    "    model.load_state_dict(torch.load(model_file))\n",
    "    model.eval()\n",
    "\n",
    "def scale_to_01_range(x): # scale and move the coordinates so they fit [0; 1] range\n",
    "    # compute the distribution range\n",
    "    value_range = (np.max(x) - np.min(x))\n",
    "    # move the distribution so that it starts from zero\n",
    "    # by extracting the minimal value from all its values\n",
    "    starts_from_zero = x - np.min(x)\n",
    "    # make the distribution fit [0; 1] by dividing by its range\n",
    "    return starts_from_zero / value_range\n",
    "\n",
    "def plot_tSNE(ax, classname, tsne):\n",
    "    keys = list(np.unique(classname))\n",
    "    NUM_COLORS = len(keys)\n",
    "    cm = plt.get_cmap('gist_rainbow')\n",
    "    values = [cm(1.*i/NUM_COLORS) for i in range(NUM_COLORS)]\n",
    "    colors_per_class = dict(zip(keys, values))\n",
    "\n",
    "    # extract x and y coordinates representing the positions of the images on T-SNE plot\n",
    "    tx = scale_to_01_range(tsne[:, 0])\n",
    "    ty = scale_to_01_range(tsne[:, 1])\n",
    "    \n",
    "    # for every class, we'll add a scatter plot separately\n",
    "    for label in reversed(list(colors_per_class.keys())):\n",
    "        # find the samples of the current class in the data\n",
    "        indices = [i for i, l in enumerate(classname) if l == label]\n",
    "\n",
    "        # extract the coordinates of the points of this class only\n",
    "        current_tx = np.take(tx, indices)\n",
    "        current_ty = np.take(ty, indices)\n",
    "\n",
    "        # convert the class color to matplotlib format\n",
    "        color = colors_per_class[label]\n",
    "\n",
    "        # add a scatter plot with the corresponding color and label\n",
    "        ax.scatter(current_tx, current_ty, color=color, label=label, s=10)\n",
    "\n",
    "    # build a legend using the labels we set previously\n",
    "    ax.legend(loc='upper right', bbox_to_anchor=(.99, .99))\n",
    "\n",
    "def calculate_tSNE(model, dl, pdfname):\n",
    "    flag = 0\n",
    "    for x_val, y_val, sourcefile in dl: # I need x_val, y_val, frame_idx here for visualization\n",
    "        x_val, y_val = [t.cuda() for t in (x_val, y_val)]\n",
    "        out, out4inference = model(x_val) # (batch_size, 16)\n",
    "        pred = torch.sigmoid(out)>0.5\n",
    "        pred = pred.cpu().detach().numpy()\n",
    "        feature = out4inference.cpu().detach().numpy()\n",
    "        label = y_val.cpu().numpy()\n",
    "        source = list(sourcefile)\n",
    "        if flag == 0:\n",
    "            features = feature\n",
    "            labels = label\n",
    "            preds = pred\n",
    "            sources = source\n",
    "            flag+=1\n",
    "        else:\n",
    "            features = np.concatenate((features,feature))\n",
    "            labels = np.concatenate((labels,label))\n",
    "            preds = np.concatenate((preds,pred))\n",
    "            sources += source\n",
    "\n",
    "    # print(features.shape, labels.shape, preds.shape, len(sources))\n",
    "    \n",
    "    setseed(0)\n",
    "    tsne = TSNE(n_components=2, learning_rate='auto', init='pca').fit_transform(features)\n",
    "    \n",
    "    classname1=[]\n",
    "    for j in range(len(sources)):\n",
    "        filename = Path(sources[j]).parent.parent.parent.name\n",
    "        classname1.append(str(filename))\n",
    "\n",
    "    classname2=[]\n",
    "    for j in range(len(sources)):\n",
    "        if labels[j] == 1:\n",
    "            classname2.append(\"label=1\")\n",
    "        elif preds[j] == 1:\n",
    "            classname2.append(\"label=0, pred=1\")\n",
    "        elif preds[j] == 0:\n",
    "            classname2.append(\"label=0, pred=0\")\n",
    "        else:\n",
    "            print(\"undefined class\")\n",
    "\n",
    "\n",
    "    # initialize a matplotlib plot\n",
    "    fig, axes = plt.subplots(1,2, figsize=(16,7))\n",
    "    plot_tSNE(axes[0], classname1, tsne)\n",
    "    plot_tSNE(axes[1], classname2, tsne)\n",
    "    plt.savefig(MODEL_PATH / SAVENAME / pdfname, format=\"pdf\", bbox_inches=\"tight\")\n",
    "    plt.show()"
   ]
  },
  {
   "cell_type": "code",
   "execution_count": 34,
   "metadata": {
    "tags": []
   },
   "outputs": [],
   "source": [
    "from sklearn.manifold import TSNE\n",
    "\n",
    "# # modify LSTM hyper-parameters here if you want to use a saved model,\n",
    "# # no need to modify if you want to use a model just trained above\n",
    "\n",
    "# SAVENAME = 'c_b_19d_128_128_128_PU'\n",
    "# FEATURE_COL = np.arange(0,19)\n",
    "# input_dim = len(FEATURE_COL)\n",
    "# conv1_dim = 128\n",
    "# conv2_dim = 128\n",
    "# lstm_dim = 128\n",
    "# layer_dim = 1\n",
    "# output_dim = 1\n",
    "# hidden1_dim = 128\n",
    "# hidden2_dim = 128\n",
    "\n",
    "whichmodel = 'best' # {‘best', 'last'} \n",
    "sampling_type = 'latest' # {'latest', 'random'}\n",
    "\n",
    "val_ds = MyDataset(val_datapath, data_len=LEN_MIN, interval=INTERVAL, sampling_type=sampling_type)\n",
    "val_dl = DataLoader(val_ds, batch_size=1, shuffle=False, collate_fn=collate_fn, num_workers=0, sampler=None)\n",
    "trn_ds = MyDataset(trn_datapath, data_len=LEN_MIN, interval=INTERVAL, sampling_type=sampling_type)\n",
    "trn_dl = DataLoader(trn_ds, batch_size=1, shuffle=False, collate_fn=collate_fn, num_workers=0, sampler=None)\n",
    "\n",
    "load_model()"
   ]
  },
  {
   "cell_type": "code",
   "execution_count": 35,
   "metadata": {},
   "outputs": [
    {
     "name": "stderr",
     "output_type": "stream",
     "text": [
      "C:\\Users\\jiaxin.ma\\AppData\\Local\\conda\\conda\\envs\\remote-meeting\\lib\\site-packages\\sklearn\\manifold\\_t_sne.py:986: FutureWarning: The PCA initialization in TSNE will change to have the standard deviation of PC1 equal to 1e-4 in 1.2. This will ensure better convergence.\n",
      "  FutureWarning,\n"
     ]
    },
    {
     "data": {
      "image/png": "[encoded data removed]",
      "text/plain": [
       "<Figure size 1600x700 with 2 Axes>"
      ]
     },
     "metadata": {},
     "output_type": "display_data"
    },
    {
     "name": "stderr",
     "output_type": "stream",
     "text": [
      "C:\\Users\\jiaxin.ma\\AppData\\Local\\conda\\conda\\envs\\remote-meeting\\lib\\site-packages\\sklearn\\manifold\\_t_sne.py:986: FutureWarning: The PCA initialization in TSNE will change to have the standard deviation of PC1 equal to 1e-4 in 1.2. This will ensure better convergence.\n",
      "  FutureWarning,\n"
     ]
    },
    {
     "data": {
      "image/png": "[encoded data removed]",
      "text/plain": [
       "<Figure size 1600x700 with 2 Axes>"
      ]
     },
     "metadata": {},
     "output_type": "display_data"
    }
   ],
   "source": [
    "calculate_tSNE(model, trn_dl, \"tSNE_train.pdf\")\n",
    "calculate_tSNE(model, val_dl, \"tSNE_val.pdf\")"
   ]
  },
  {
   "cell_type": "markdown",
   "metadata": {},
   "source": [
    "## Evaluation on human annotation  \n",
    "modified by Jason 0623"
   ]
  },
  {
   "cell_type": "code",
   "execution_count": 121,
   "metadata": {
    "tags": []
   },
   "outputs": [],
   "source": [
    "mode = 'val' \n",
    "csv_path = DATA_PATH / 'human_annotation' / ('vimeo_'+mode) / 'test_result.csv'\n",
    "df=pd.read_csv(csv_path)\n",
    "start_pos = df[\"start_pos\"].values.tolist()\n",
    "data_id = df[\"data_id\"].values.tolist()\n",
    "file_id = df[\"file_id\"].values.tolist()\n",
    "datapath = [DATA_PATH / 'human_annotation' / ('vimeo_'+mode) / (mode+'_vimeo_'+ str(i)) / 'data_sample' / str(j) for (i,j) in zip(file_id, data_id)]\n",
    "non_nan_index = df.index[df['result'].notna()]\n",
    "\n",
    "feature_col_annotation = np.append(np.arange(1, 3), np.arange(179, 196)) \n",
    "# 19d feature (here the data_sample for human annotation are preprocessed by an old-version script, so the feature index is different)\n",
    "\n",
    "ds = MyDataset(datapath, data_len=LEN_MIN, interval=INTERVAL, start_pos=start_pos, feature_col=feature_col_annotation) \n",
    "dl = DataLoader(ds, batch_size=1, shuffle=False, num_workers=0, sampler=None)"
   ]
  },
  {
   "cell_type": "code",
   "execution_count": 122,
   "metadata": {
    "tags": []
   },
   "outputs": [],
   "source": [
    "# # modify LSTM hyper-parameters here if you want to use a saved model,\n",
    "# # no need to modify if you want to use a model just trained above\n",
    "\n",
    "# SAVENAME = 'c_b_19d_128_128_128_PU'\n",
    "# input_dim = len(feature_col_annotation)\n",
    "# conv1_dim = 128\n",
    "# conv2_dim = 128\n",
    "# lstm_dim = 128\n",
    "# layer_dim = 1\n",
    "# output_dim = 1\n",
    "# hidden1_dim = 128\n",
    "# hidden2_dim = 128\n",
    "\n",
    "whichmodel = 'best' # {‘best', 'last'} \n",
    "load_model()"
   ]
  },
  {
   "cell_type": "code",
   "execution_count": 124,
   "metadata": {
    "tags": []
   },
   "outputs": [],
   "source": [
    "preds=[]\n",
    "for x_val, y_val, sourcefile in dl:\n",
    "    x_val, y_val = [t.cuda() for t in (x_val, y_val)]\n",
    "    out, out4inference = model(x_val)\n",
    "    pred = torch.sigmoid(out)\n",
    "    pred = pred.cpu().detach().flatten().tolist()\n",
    "    preds+=pred\n",
    "preds = np.array(preds)[non_nan_index]>0.5"
   ]
  },
  {
   "cell_type": "markdown",
   "metadata": {},
   "source": [
    "### caculate Matthews correlation coefficient (MCC) between any two annotators (or model)\n",
    "### calculate krippendorff's alpha between any N (N>=2) annotators (or model)"
   ]
  },
  {
   "cell_type": "code",
   "execution_count": 125,
   "metadata": {
    "tags": []
   },
   "outputs": [],
   "source": [
    "value_mapping = {'want_speak': 1, 'if_speak': 1, 'other': 0} \n",
    "# change the value_mapping here, 'if_speak' should be either 0 or 1.\n",
    "# theoretically 'if_speak' can be float value between 0~1. But MCC and kd-alpha only support binary or multiclass labels.\n",
    "\n",
    "label0 = preds # model prediction\n",
    "label1 = df['label_1'][non_nan_index].map(value_mapping).values # human annotator 1\n",
    "label2 = df['label_2'][non_nan_index].map(value_mapping).values # human annotator 2\n",
    "label3 = df['label_3'][non_nan_index].map(value_mapping).values # human annotator 3\n",
    "label4 = df['result'][non_nan_index].map(value_mapping).values # human annotator majority voting\n",
    "label5 = df[\"label_ASD\"][non_nan_index] # ASD"
   ]
  },
  {
   "cell_type": "code",
   "execution_count": 126,
   "metadata": {
    "tags": []
   },
   "outputs": [
    {
     "data": {
      "text/plain": [
       "0.3534249942186554"
      ]
     },
     "execution_count": 126,
     "metadata": {},
     "output_type": "execute_result"
    }
   ],
   "source": [
    "matthews_corrcoef(label1, label2)"
   ]
  },
  {
   "cell_type": "code",
   "execution_count": 81,
   "metadata": {
    "tags": []
   },
   "outputs": [
    {
     "data": {
      "text/plain": [
       "0.31294117647058817"
      ]
     },
     "execution_count": 81,
     "metadata": {},
     "output_type": "execute_result"
    }
   ],
   "source": [
    "kd.alpha(np.vstack((label1, label2, label3)), level_of_measurement='nominal')"
   ]
  },
  {
   "cell_type": "markdown",
   "metadata": {},
   "source": [
    "# Export the model to .onnx file"
   ]
  },
  {
   "cell_type": "code",
   "execution_count": 98,
   "metadata": {
    "tags": []
   },
   "outputs": [],
   "source": [
    "dummy_input = torch.randn(x_val[:1,:].shape).cuda()\n",
    "export_path = '../model/exported_model.onnx'\n",
    "\n",
    "torch.onnx.export(model, dummy_input, export_path, verbose=True,\n",
    "                  input_names=[\"input\"], output_names=[\"output\"],\n",
    "                  opset_version=11) # output model only accept batch_size=1"
   ]
  },
  {
   "cell_type": "code",
   "execution_count": null,
   "metadata": {},
   "outputs": [],
   "source": []
  }
 ],
 "metadata": {
  "kernelspec": {
   "display_name": "Python 3 (ipykernel)",
   "language": "python",
   "name": "python3"
  },
  "language_info": {
   "codemirror_mode": {
    "name": "ipython",
    "version": 3
   },
   "file_extension": ".py",
   "mimetype": "text/x-python",
   "name": "python",
   "nbconvert_exporter": "python",
   "pygments_lexer": "ipython3",
   "version": "3.7.9"
  }
 },
 "nbformat": 4,
 "nbformat_minor": 4
}
