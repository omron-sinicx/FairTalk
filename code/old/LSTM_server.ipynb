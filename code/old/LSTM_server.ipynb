{
 "cells": [
  {
   "cell_type": "markdown",
   "metadata": {},
   "source": [
    "This program is modified from https://www.kaggle.com/code/purplejester/a-simple-lstm-based-time-series-classifier/notebook"
   ]
  },
  {
   "cell_type": "code",
   "execution_count": 1,
   "metadata": {},
   "outputs": [],
   "source": [
    "%matplotlib inline\n",
    "# !nvidia-smi"
   ]
  },
  {
   "cell_type": "code",
   "execution_count": 2,
   "metadata": {},
   "outputs": [],
   "source": [
    "from multiprocessing import cpu_count\n",
    "from pathlib import Path\n",
    "import matplotlib.pyplot as plt\n",
    "import numpy as np\n",
    "import pandas as pd\n",
    "from sklearn.model_selection import train_test_split\n",
    "from sklearn.preprocessing import LabelEncoder\n",
    "import torch\n",
    "from torch import nn\n",
    "from torch.nn import functional as F\n",
    "from torch.utils.data import Dataset, TensorDataset, DataLoader, WeightedRandomSampler\n",
    "from torch.optim.lr_scheduler import _LRScheduler\n",
    "import os\n",
    "import pickle\n",
    "from random import randint"
   ]
  },
  {
   "cell_type": "code",
   "execution_count": 3,
   "metadata": {},
   "outputs": [],
   "source": [
    "seed = 1\n",
    "np.random.seed(seed)\n",
    "torch.cuda.set_device(0)  # choose the gpu_id you want to use"
   ]
  },
  {
   "cell_type": "code",
   "execution_count": 4,
   "metadata": {},
   "outputs": [],
   "source": [
    "# some global hyper-parameters\n",
    "PU_LEARNING = False\n",
    "len_min = 120 # the fixed seq length (in frame, and the data source is 24fps) of each training samples, the training sample smaller than this length will be filtered away\n",
    "bs = 64 # batch size\n",
    "interval = 4 # it means sampling once for every XX data points, so the actual seq length becomes len_min/interval\n",
    "\n",
    "folder = [\"./asd_result/train\",\"./asd_result/test\", \"./asd_result/val\"] # the directories of train, test, and val dataset, NOTE THAT it requires preprocessed data, not raw data\n",
    "path_prior = folder[0]+\"/distribution.csv\" # the file that stores training data label (0/1) distribution used for PULearning"
   ]
  },
  {
   "cell_type": "markdown",
   "metadata": {},
   "source": [
    "# Loading the Data\n",
    "First of all, we read the files and drop the irrelavant columns."
   ]
  },
  {
   "cell_type": "code",
   "execution_count": 5,
   "metadata": {},
   "outputs": [],
   "source": [
    "def get_datapath(folder):\n",
    "    subfolder = [ f.path for f in os.scandir(folder) if f.is_dir()]\n",
    "    subsubfolder = []\n",
    "    for i in subfolder:\n",
    "        if os.path.isdir(i+'/data'): \n",
    "            temp = [ f.path for f in os.scandir(i+'/data') if f.is_file()] # here it is better to exclude hidden file, but I haven't found how\n",
    "            subsubfolder = subsubfolder + temp\n",
    "    return subsubfolder\n",
    "\n",
    "class MyDataset(Dataset):\n",
    "    def __init__(self, datapath, data_len, interval):\n",
    "        self.data_files = sorted(datapath)\n",
    "        self.interval = interval\n",
    "        self.data_len = data_len # the expected length of each training sample\n",
    "\n",
    "    def __getitem__(self, idx):\n",
    "        with open(self.data_files[idx], 'rb') as f:\n",
    "            x_id, y_id, data = pickle.load(f)\n",
    "        offset=randint(0,self.interval-1)\n",
    "        x = data[-self.data_len+offset::self.interval,:]\n",
    "        y = np.array([1.]) if x_id==y_id else np.array([0.])\n",
    "        return x, y\n",
    "\n",
    "    def __len__(self):\n",
    "        return len(self.data_files)\n",
    "    \n",
    "def collate_fn(batch):\n",
    "    batch = list(filter(lambda x: x is not None, batch))\n",
    "    return torch.utils.data.dataloader.default_collate(batch)\n",
    "\n",
    "def filterlength(datapath,data_len,flag):\n",
    "    filename = \"./datapath_filtered/data\"+flag+\"_\"+str(data_len)\n",
    "    labelfile = \"./datapath_filtered/label\"+flag+\"_\"+str(data_len) \n",
    "    if os.path.isfile(filename):\n",
    "        with open(filename, 'rb') as f:\n",
    "            datapath_filtered = pickle.load(f)\n",
    "    if os.path.isfile(labelfile):\n",
    "        with open(labelfile, 'rb') as f:\n",
    "            label = pickle.load(f)\n",
    "    if not os.path.isfile(filename) or not os.path.isfile(labelfile):\n",
    "        datapath_filtered=[]\n",
    "        label=[]\n",
    "        for i in datapath:\n",
    "            with open(i, 'rb') as f:\n",
    "                x_id, y_id, data = pickle.load(f)\n",
    "            if len(data) >= data_len:\n",
    "                datapath_filtered.append(i)\n",
    "                y = 1 if x_id==y_id else 0\n",
    "                label.append(y)\n",
    "        os.makedirs(os.path.dirname(\"./datapath_filtered/\"), exist_ok=True)\n",
    "        with open(filename, 'wb') as f:\n",
    "            pickle.dump(datapath_filtered, f)\n",
    "        with open(labelfile, 'wb') as f:\n",
    "            pickle.dump(label, f)\n",
    "\n",
    "    return datapath_filtered, label"
   ]
  },
  {
   "cell_type": "code",
   "execution_count": 6,
   "metadata": {},
   "outputs": [
    {
     "name": "stdout",
     "output_type": "stream",
     "text": [
      "Preparing datasets\n"
     ]
    }
   ],
   "source": [
    "print('Preparing datasets')\n",
    "\n",
    "trn_datapath, trn_label = filterlength(get_datapath(folder[0]),len_min,\"train\")\n",
    "val_datapath, val_label = filterlength(get_datapath(folder[2]),len_min,\"val\")"
   ]
  },
  {
   "cell_type": "code",
   "execution_count": 7,
   "metadata": {},
   "outputs": [],
   "source": [
    "# calculate class prior for PU learning\n",
    "if PU_LEARNING:\n",
    "    dist = pd.read_csv(path_prior)\n",
    "    ind = dist.loc[dist[\"sample length\"] >= len_min].index[0]\n",
    "    dist = dist.iloc[ind:]\n",
    "    pos = dist[\"postive\"].sum()\n",
    "    neg = dist[\"unlabeled\"].sum()\n",
    "    prior = float(pos/(pos+neg))"
   ]
  },
  {
   "cell_type": "code",
   "execution_count": 8,
   "metadata": {},
   "outputs": [],
   "source": [
    "def create_sampler(label):\n",
    "    class_sample_count = np.array([label.count(0), label.count(1)])\n",
    "    weight = 1./class_sample_count\n",
    "    samples_weight = np.array([weight[t] for t in label])\n",
    "    sampler = WeightedRandomSampler(samples_weight, len(samples_weight))\n",
    "    return sampler"
   ]
  },
  {
   "cell_type": "code",
   "execution_count": 9,
   "metadata": {},
   "outputs": [
    {
     "name": "stdout",
     "output_type": "stream",
     "text": [
      "Creating data loaders with batch size: 64\n"
     ]
    }
   ],
   "source": [
    "print(f'Creating data loaders with batch size: {bs}')\n",
    "trn_ds = MyDataset(trn_datapath, data_len=len_min, interval=interval)\n",
    "val_ds = MyDataset(val_datapath, data_len=len_min, interval=interval)\n",
    "\n",
    "# balance the class\n",
    "trn_dl = DataLoader(trn_ds, batch_size=bs, shuffle=False, collate_fn=collate_fn, num_workers=0, sampler=create_sampler(trn_label))\n",
    "val_dl = DataLoader(val_ds, batch_size=bs, shuffle=False, collate_fn=collate_fn, num_workers=0, sampler=create_sampler(val_label))"
   ]
  },
  {
   "cell_type": "markdown",
   "metadata": {},
   "source": [
    "# Implementation of PU Loss\n",
    "source: https://github.com/cimeister/pu-learning/blob/master/loss.py  \n",
    "example: https://github.com/cimeister/pu-learning/blob/master/run_classifier.py"
   ]
  },
  {
   "cell_type": "code",
   "execution_count": 10,
   "metadata": {},
   "outputs": [],
   "source": [
    "class PULoss(nn.Module):\n",
    "    \"\"\"wrapper of loss function for PU learning\"\"\"\n",
    "\n",
    "    def __init__(self, prior, loss=(lambda x: torch.sigmoid(-x)), gamma=1, beta=0, nnPU=False):\n",
    "        super(PULoss,self).__init__()\n",
    "        if not 0 < prior < 1:\n",
    "            raise NotImplementedError(\"The class prior should be in (0, 1)\")\n",
    "        self.prior = prior\n",
    "        self.gamma = gamma\n",
    "        self.beta = beta\n",
    "        self.loss_func = loss#lambda x: (torch.tensor(1., device=x.device) - torch.sign(x))/torch.tensor(2, device=x.device)\n",
    "        self.nnPU = nnPU\n",
    "        self.positive = 1\n",
    "        self.unlabeled = 0\n",
    "        self.min_count = torch.tensor(1.)\n",
    "    \n",
    "    def forward(self, inp, target, test=False):\n",
    "        assert(inp.shape == target.shape)        \n",
    "        positive, unlabeled = target == self.positive, target == self.unlabeled\n",
    "        positive, unlabeled = positive.type(torch.float), unlabeled.type(torch.float)\n",
    "        if inp.is_cuda:\n",
    "            self.min_count = self.min_count.cuda()\n",
    "#             self.prior = self.prior.cuda()\n",
    "        n_positive, n_unlabeled = torch.max(self.min_count, torch.sum(positive)), torch.max(self.min_count, torch.sum(unlabeled))\n",
    "        \n",
    "        y_positive = self.loss_func(positive*inp) * positive\n",
    "        y_positive_inv = self.loss_func(-positive*inp) * positive\n",
    "        y_unlabeled = self.loss_func(-unlabeled*inp) * unlabeled\n",
    "\n",
    "        positive_risk = self.prior * torch.sum(y_positive)/ n_positive\n",
    "        negative_risk = - self.prior *torch.sum(y_positive_inv)/ n_positive + torch.sum(y_unlabeled)/n_unlabeled\n",
    "\n",
    "        if negative_risk < -self.beta and self.nnPU:\n",
    "            return -self.gamma * negative_risk\n",
    "        else:\n",
    "            return positive_risk+negative_risk"
   ]
  },
  {
   "cell_type": "markdown",
   "metadata": {},
   "source": [
    "# Cyclic Learning Rate (currently disabled)\n",
    "The recent papers by L. Smith show us that the cyclic learning rate schedulers have very positive influence on model's convergence speed. In the following cells, we implement a simple cosine scheduler for our model."
   ]
  },
  {
   "cell_type": "code",
   "execution_count": 11,
   "metadata": {},
   "outputs": [],
   "source": [
    "class CyclicLR(_LRScheduler):\n",
    "    \n",
    "    def __init__(self, optimizer, schedule, last_epoch=-1):\n",
    "        assert callable(schedule)\n",
    "        self.schedule = schedule\n",
    "        super().__init__(optimizer, last_epoch)\n",
    "\n",
    "    def get_lr(self):\n",
    "        return [self.schedule(self.last_epoch, lr) for lr in self.base_lrs]\n",
    "    \n",
    "def cosine(t_max, eta_min=0):\n",
    "    \n",
    "    def scheduler(epoch, base_lr):\n",
    "        t = epoch % t_max\n",
    "        return eta_min + (base_lr - eta_min)*(1 + np.cos(np.pi*t/t_max))/2\n",
    "    \n",
    "    return scheduler"
   ]
  },
  {
   "cell_type": "code",
   "execution_count": 12,
   "metadata": {},
   "outputs": [
    {
     "data": {
      "text/plain": [
       "[<matplotlib.lines.Line2D at 0x18eae25fa08>]"
      ]
     },
     "execution_count": 12,
     "metadata": {},
     "output_type": "execute_result"
    },
    {
     "data": {
      "image/png": "[encoded data removed]",
      "text/plain": [
       "<Figure size 432x288 with 1 Axes>"
      ]
     },
     "metadata": {
      "needs_background": "light"
     },
     "output_type": "display_data"
    }
   ],
   "source": [
    "n = 100\n",
    "sched = cosine(n)\n",
    "lrs = [sched(t, 1) for t in range(n * 4)]\n",
    "plt.plot(lrs)"
   ]
  },
  {
   "cell_type": "markdown",
   "metadata": {},
   "source": [
    "# The LSTM Model\n",
    "Our classifier contains of several LSTM cells (hidden under the hood of nn.LSTM), and one nn.Linear layer. Note that we use batch_first=True to make sure that the first dimension of our tensors is interpreted as a batch size, and the next one - as a time dimension."
   ]
  },
  {
   "cell_type": "code",
   "execution_count": 13,
   "metadata": {},
   "outputs": [],
   "source": [
    "class LSTMClassifier(nn.Module):\n",
    "    \"\"\"Very simple implementation of LSTM-based time-series classifier.\"\"\"\n",
    "    \n",
    "    def __init__(self, input_dim, hidden_dim, layer_dim, output_dim):\n",
    "        super().__init__()\n",
    "        self.hidden_dim = hidden_dim\n",
    "        self.layer_dim = layer_dim\n",
    "        self.rnn = nn.LSTM(input_dim, hidden_dim, layer_dim, batch_first=True)\n",
    "        self.fc = nn.Linear(hidden_dim, output_dim)\n",
    "        self.batch_size = None\n",
    "        self.hidden = None\n",
    "    \n",
    "    def forward(self, x):\n",
    "        h0, c0 = self.init_hidden(x)\n",
    "        out, (hn, cn) = self.rnn(x, (h0, c0))\n",
    "        out = self.fc(out[:, -1, :])\n",
    "        return out\n",
    "    \n",
    "    def init_hidden(self, x):\n",
    "        h0 = torch.zeros(self.layer_dim, x.size(0), self.hidden_dim)\n",
    "        c0 = torch.zeros(self.layer_dim, x.size(0), self.hidden_dim)\n",
    "        return [t.cuda() for t in (h0, c0)]"
   ]
  },
  {
   "cell_type": "code",
   "execution_count": 14,
   "metadata": {},
   "outputs": [],
   "source": [
    "class ConvLSTMClassifier(nn.Module):\n",
    "    \n",
    "    def __init__(self, input_dim, hidden_dim, layer_dim, output_dim):\n",
    "        super().__init__()\n",
    "        self.hidden_dim = hidden_dim\n",
    "        self.layer_dim = layer_dim\n",
    "        self.cnn1 = nn.Conv1d(input_dim, 64, kernel_size=5, stride=2, padding=0)\n",
    "        self.cnn2 = nn.Conv1d(64, 32, kernel_size=5, stride=2, padding=0)\n",
    "        self.bn1 = nn.BatchNorm1d(64)\n",
    "        self.bn2 = nn.BatchNorm1d(32)\n",
    "        self.prelu1 = nn.PReLU()\n",
    "        self.prelu2 = nn.PReLU()\n",
    "        self.dropout1 = nn.Dropout(p=0.2)\n",
    "        self.dropout2 = nn.Dropout(p=0.5)\n",
    "        self.rnn = nn.LSTM(32, hidden_dim, layer_dim, batch_first=True)\n",
    "        self.fc = nn.Linear(hidden_dim, output_dim)\n",
    "        self.batch_size = None\n",
    "        self.hidden = None\n",
    "    \n",
    "    def forward(self, x):\n",
    "        x = x.permute(0, 2, 1) # swap dimension (1,2) because Conv1d requires (batch, feature, seq), where the LSTM input is (batch, seq, feature)\n",
    "        x = self.cnn1(x)\n",
    "        x = self.prelu1(self.bn1(x))\n",
    "        x = self.dropout1(x)\n",
    "        x = self.cnn2(x)\n",
    "        x = self.prelu2(self.bn2(x))\n",
    "        x = self.dropout2(x)\n",
    "        x = x.permute(0, 2, 1)\n",
    "        h0, c0 = self.init_hidden(x)\n",
    "        out, (hn, cn) = self.rnn(x, (h0, c0))\n",
    "        out = self.fc(out[:, -1, :])\n",
    "        return out\n",
    "    \n",
    "    def init_hidden(self, x):\n",
    "        h0 = torch.zeros(self.layer_dim, x.size(0), self.hidden_dim)\n",
    "        c0 = torch.zeros(self.layer_dim, x.size(0), self.hidden_dim)\n",
    "        return [t.cuda() for t in (h0, c0)]"
   ]
  },
  {
   "cell_type": "markdown",
   "metadata": {},
   "source": [
    "# Training Loop\n",
    "Finally, we are ready to bring everything together and train the model."
   ]
  },
  {
   "cell_type": "code",
   "execution_count": 15,
   "metadata": {},
   "outputs": [],
   "source": [
    "def my_plot(epochs, loss, loss_val):\n",
    "    fig = plt.figure()\n",
    "    ax0 = fig.add_subplot(211, title='train')\n",
    "    ax1 = fig.add_subplot(212, title='val')\n",
    "    ax0.plot(epochs, loss, 'bo-')\n",
    "    ax1.plot(epochs, loss_val, 'ro-')\n",
    "    ax0.set_xlabel('epoch')\n",
    "    ax0.set_ylabel('loss')\n",
    "    ax1.set_xlabel('epoch')\n",
    "    ax1.set_ylabel('loss')"
   ]
  },
  {
   "cell_type": "code",
   "execution_count": 16,
   "metadata": {},
   "outputs": [
    {
     "name": "stdout",
     "output_type": "stream",
     "text": [
      "Start model training\n",
      "Epoch 1 best model saved with accuracy: 48.96%\n",
      "Epoch 3 best model saved with accuracy: 64.68%\n",
      "Epoch:   5. Loss: 0.6036. Acc.: 62.74%\n",
      "Epoch 6 best model saved with accuracy: 66.55%\n",
      "Epoch:  10. Loss: 0.5172. Acc.: 56.28%\n",
      "Epoch:  15. Loss: 0.6066. Acc.: 66.04%\n",
      "Epoch:  20. Loss: 0.5390. Acc.: 61.09%\n",
      "Epoch:  25. Loss: 0.5471. Acc.: 65.69%\n",
      "Epoch:  30. Loss: 0.5960. Acc.: 60.37%\n",
      "Epoch:  35. Loss: 0.4511. Acc.: 61.31%\n",
      "Epoch:  40. Loss: 0.4944. Acc.: 57.14%\n",
      "Epoch:  45. Loss: 0.6153. Acc.: 64.39%\n",
      "Epoch 49 best model saved with accuracy: 66.76%\n",
      "Epoch:  50. Loss: 0.4786. Acc.: 60.88%\n",
      "Epoch:  55. Loss: 0.6601. Acc.: 63.53%\n",
      "Epoch:  60. Loss: 0.6276. Acc.: 60.52%\n",
      "Epoch:  65. Loss: 0.6517. Acc.: 58.44%\n",
      "Epoch:  70. Loss: 0.5944. Acc.: 56.42%\n",
      "Epoch:  75. Loss: 0.5493. Acc.: 58.36%\n",
      "Epoch:  80. Loss: 0.5797. Acc.: 64.18%\n",
      "Epoch:  85. Loss: 0.6587. Acc.: 60.59%\n",
      "Epoch:  90. Loss: 0.5080. Acc.: 62.17%\n",
      "Epoch:  95. Loss: 0.5630. Acc.: 61.59%\n",
      "Epoch: 100. Loss: 0.5931. Acc.: 56.50%\n",
      "Epoch: 105. Loss: 0.5845. Acc.: 60.88%\n",
      "Epoch: 110. Loss: 0.5228. Acc.: 56.14%\n",
      "Epoch: 115. Loss: 0.7106. Acc.: 60.59%\n",
      "Epoch: 120. Loss: 0.5017. Acc.: 62.38%\n",
      "Epoch: 125. Loss: 0.4902. Acc.: 59.08%\n",
      "Epoch: 130. Loss: 0.5178. Acc.: 61.16%\n",
      "Epoch: 135. Loss: 0.5310. Acc.: 61.16%\n",
      "Epoch: 140. Loss: 0.5735. Acc.: 60.95%\n",
      "Epoch: 145. Loss: 0.4733. Acc.: 62.38%\n",
      "Early stopping on epoch 149\n"
     ]
    },
    {
     "data": {
      "image/png": "[encoded data removed]",
      "text/plain": [
       "<Figure size 432x288 with 2 Axes>"
      ]
     },
     "metadata": {
      "needs_background": "light"
     },
     "output_type": "display_data"
    }
   ],
   "source": [
    "######### LSTM hyper-parameters\n",
    "input_dim = 196   \n",
    "hidden_dim = 16\n",
    "layer_dim = 2\n",
    "output_dim = 1\n",
    "\n",
    "lr = 0.0002\n",
    "n_epochs = 200\n",
    "iterations_per_epoch = len(trn_dl)\n",
    "best_acc = 0\n",
    "patience, trials = 100, 0\n",
    "#########\n",
    "\n",
    "epoch_loss=[]\n",
    "epoch_loss_val=[]\n",
    "\n",
    "model = ConvLSTMClassifier(input_dim, hidden_dim, layer_dim, output_dim)\n",
    "model = model.cuda()\n",
    "\n",
    "if PU_LEARNING:\n",
    "    criterion = PULoss(prior=prior)\n",
    "else:\n",
    "    criterion = nn.BCEWithLogitsLoss() # nn.CrossEntropyLoss() # bug: change to binary entropy loss\n",
    "\n",
    "opt = torch.optim.RAdam(model.parameters(), lr=lr)\n",
    "# sched = CyclicLR(opt, cosine(t_max=iterations_per_epoch * 2, eta_min=lr/100))\n",
    "sched=None\n",
    "\n",
    "print('Start model training')\n",
    "\n",
    "for epoch in range(1, n_epochs + 1):\n",
    "    \n",
    "    seed = epoch\n",
    "    np.random.seed(seed)\n",
    "    torch.manual_seed(seed)\n",
    "    \n",
    "    running_loss = 0.0\n",
    "    \n",
    "    for i, (x_batch, y_batch) in enumerate(trn_dl):\n",
    "        model.train()\n",
    "        x_batch = x_batch.cuda()\n",
    "        y_batch = y_batch.cuda()\n",
    "        opt.zero_grad()\n",
    "        out = model(x_batch)\n",
    "        loss = criterion(out, y_batch)\n",
    "        loss.backward()\n",
    "        opt.step()\n",
    "#         sched.step()\n",
    "        \n",
    "        running_loss += loss.item() * y_batch.shape[0] \n",
    "    epoch_loss.append(running_loss / len(trn_ds))\n",
    "    \n",
    "    seed = 0\n",
    "    np.random.seed(seed)\n",
    "    torch.manual_seed(seed)\n",
    "        \n",
    "    model.eval()\n",
    "    correct, total = 0, 0\n",
    "    \n",
    "    running_loss = 0.0\n",
    "    \n",
    "    for x_val, y_val in val_dl:\n",
    "        x_val, y_val = [t.cuda() for t in (x_val, y_val)]\n",
    "        out = model(x_val)\n",
    "        preds = out>0.5\n",
    "        total += y_val.size(0)\n",
    "        correct += (preds == y_val).sum().item()\n",
    "        \n",
    "        loss_val = criterion(out, y_val)\n",
    "        running_loss += loss_val.item() * y_val.shape[0]\n",
    "    epoch_loss_val.append(running_loss / len(val_ds))\n",
    "    \n",
    "    acc = correct / total\n",
    "\n",
    "    if epoch % 5 == 0:\n",
    "        print(f'Epoch: {epoch:3d}. Loss: {loss.item():.4f}. Acc.: {acc:2.2%}')\n",
    "\n",
    "    if acc > best_acc:\n",
    "        trials = 0\n",
    "        best_acc = acc\n",
    "        torch.save(model.state_dict(), 'best.pth')\n",
    "        print(f'Epoch {epoch} best model saved with accuracy: {best_acc:2.2%}')\n",
    "    else:\n",
    "        trials += 1\n",
    "        if trials >= patience:\n",
    "            print(f'Early stopping on epoch {epoch}')\n",
    "            break\n",
    "            \n",
    "my_plot(np.arange(1, epoch+1), epoch_loss, epoch_loss_val)   "
   ]
  },
  {
   "cell_type": "code",
   "execution_count": 21,
   "metadata": {},
   "outputs": [
    {
     "name": "stdout",
     "output_type": "stream",
     "text": [
      "graph(%input : Float(1, 30, 196, strides=[5880, 196, 1], requires_grad=0, device=cuda:0),\n",
      "      %fc.weight : Float(1, 16, strides=[16, 1], requires_grad=1, device=cuda:0),\n",
      "      %fc.bias : Float(1, strides=[1], requires_grad=1, device=cuda:0),\n",
      "      %217 : Float(64, 196, 5, strides=[980, 5, 1], requires_grad=0, device=cuda:0),\n",
      "      %218 : Float(64, strides=[1], requires_grad=0, device=cuda:0),\n",
      "      %220 : Float(32, 64, 5, strides=[320, 5, 1], requires_grad=0, device=cuda:0),\n",
      "      %221 : Float(32, strides=[1], requires_grad=0, device=cuda:0),\n",
      "      %222 : Float(1, 1, strides=[1, 1], requires_grad=0, device=cuda:0),\n",
      "      %223 : Float(1, 1, strides=[1, 1], requires_grad=0, device=cuda:0),\n",
      "      %241 : Float(1, 64, 32, strides=[2048, 32, 1], requires_grad=0, device=cuda:0),\n",
      "      %242 : Float(1, 64, 16, strides=[1024, 16, 1], requires_grad=0, device=cuda:0),\n",
      "      %243 : Float(1, 128, strides=[128, 1], requires_grad=0, device=cuda:0),\n",
      "      %244 : Float(1, 1, 16, strides=[16, 16, 1], requires_grad=0, device=cpu),\n",
      "      %245 : Float(1, 1, 16, strides=[16, 16, 1], requires_grad=0, device=cpu),\n",
      "      %246 : Long(1, strides=[1], requires_grad=0, device=cpu),\n",
      "      %247 : Long(1, strides=[1], requires_grad=0, device=cpu),\n",
      "      %265 : Float(1, 64, 16, strides=[1024, 16, 1], requires_grad=0, device=cuda:0),\n",
      "      %266 : Float(1, 64, 16, strides=[1024, 16, 1], requires_grad=0, device=cuda:0),\n",
      "      %267 : Float(1, 128, strides=[128, 1], requires_grad=0, device=cuda:0),\n",
      "      %268 : Float(1, 1, 16, strides=[16, 16, 1], requires_grad=0, device=cpu),\n",
      "      %269 : Float(1, 1, 16, strides=[16, 16, 1], requires_grad=0, device=cpu),\n",
      "      %270 : Long(1, strides=[1], requires_grad=0, device=cpu),\n",
      "      %271 : Long(1, strides=[1], requires_grad=0, device=cpu)):\n",
      "  %input.1 : Float(1, 196, 30, strides=[5880, 1, 196], requires_grad=0, device=cuda:0) = onnx::Transpose[perm=[0, 2, 1]](%input) # <ipython-input-14-e481cc8a571d>:21:0\n",
      "  %216 : Float(1, 64, 13, strides=[832, 13, 1], requires_grad=1, device=cuda:0) = onnx::Conv[dilations=[1], group=1, kernel_shape=[5], pads=[0, 0], strides=[2]](%input.1, %217, %218) # C:\\Users\\jiaxin.ma\\AppData\\Local\\conda\\conda\\envs\\TalkNet\\lib\\site-packages\\torch\\nn\\modules\\conv.py:299:0\n",
      "  %input.7 : Float(1, 64, 13, strides=[832, 13, 1], requires_grad=1, device=cuda:0) = onnx::PRelu(%216, %222) # C:\\Users\\jiaxin.ma\\AppData\\Local\\conda\\conda\\envs\\TalkNet\\lib\\site-packages\\torch\\nn\\modules\\activation.py:1111:0\n",
      "  %219 : Float(1, 32, 5, strides=[160, 5, 1], requires_grad=1, device=cuda:0) = onnx::Conv[dilations=[1], group=1, kernel_shape=[5], pads=[0, 0], strides=[2]](%input.7, %220, %221) # C:\\Users\\jiaxin.ma\\AppData\\Local\\conda\\conda\\envs\\TalkNet\\lib\\site-packages\\torch\\nn\\modules\\conv.py:299:0\n",
      "  %input.15 : Float(1, 32, 5, strides=[160, 5, 1], requires_grad=1, device=cuda:0) = onnx::PRelu(%219, %223) # C:\\Users\\jiaxin.ma\\AppData\\Local\\conda\\conda\\envs\\TalkNet\\lib\\site-packages\\torch\\nn\\modules\\activation.py:1111:0\n",
      "  %38 : Float(5, 1, 32, strides=[32, 32, 1], device=cpu) = onnx::Transpose[perm=[2, 0, 1]](%input.15) # C:\\Users\\jiaxin.ma\\AppData\\Local\\conda\\conda\\envs\\TalkNet\\lib\\site-packages\\torch\\nn\\modules\\rnn.py:762:0\n",
      "  %39 : Tensor? = prim::Constant() # C:\\Users\\jiaxin.ma\\AppData\\Local\\conda\\conda\\envs\\TalkNet\\lib\\site-packages\\torch\\nn\\modules\\rnn.py:762:0\n",
      "  %104 : Long(3, strides=[1], device=cpu) = onnx::Shape(%38) # C:\\Users\\jiaxin.ma\\AppData\\Local\\conda\\conda\\envs\\TalkNet\\lib\\site-packages\\torch\\nn\\modules\\rnn.py:762:0\n",
      "  %105 : Long(device=cpu) = onnx::Constant[value={1}]() # C:\\Users\\jiaxin.ma\\AppData\\Local\\conda\\conda\\envs\\TalkNet\\lib\\site-packages\\torch\\nn\\modules\\rnn.py:762:0\n",
      "  %106 : Long(device=cpu) = onnx::Gather(%104, %105) # C:\\Users\\jiaxin.ma\\AppData\\Local\\conda\\conda\\envs\\TalkNet\\lib\\site-packages\\torch\\nn\\modules\\rnn.py:762:0\n",
      "  %107 : Long(1, strides=[1], device=cpu) = onnx::Unsqueeze[axes=[0]](%106)\n",
      "  %108 : Long(1, strides=[1], device=cpu) = onnx::Constant[value={16}]() # C:\\Users\\jiaxin.ma\\AppData\\Local\\conda\\conda\\envs\\TalkNet\\lib\\site-packages\\torch\\nn\\modules\\rnn.py:762:0\n",
      "  %111 : Long(3, strides=[1], device=cpu) = onnx::Concat[axis=0](%246, %107, %108) # C:\\Users\\jiaxin.ma\\AppData\\Local\\conda\\conda\\envs\\TalkNet\\lib\\site-packages\\torch\\nn\\modules\\rnn.py:762:0\n",
      "  %112 : Float(1, 1, 16, device=cpu) = onnx::Expand(%244, %111) # C:\\Users\\jiaxin.ma\\AppData\\Local\\conda\\conda\\envs\\TalkNet\\lib\\site-packages\\torch\\nn\\modules\\rnn.py:762:0\n",
      "  %113 : Long(3, strides=[1], device=cpu) = onnx::Shape(%38) # C:\\Users\\jiaxin.ma\\AppData\\Local\\conda\\conda\\envs\\TalkNet\\lib\\site-packages\\torch\\nn\\modules\\rnn.py:762:0\n",
      "  %114 : Long(device=cpu) = onnx::Constant[value={1}]() # C:\\Users\\jiaxin.ma\\AppData\\Local\\conda\\conda\\envs\\TalkNet\\lib\\site-packages\\torch\\nn\\modules\\rnn.py:762:0\n",
      "  %115 : Long(device=cpu) = onnx::Gather(%113, %114) # C:\\Users\\jiaxin.ma\\AppData\\Local\\conda\\conda\\envs\\TalkNet\\lib\\site-packages\\torch\\nn\\modules\\rnn.py:762:0\n",
      "  %116 : Long(1, strides=[1], device=cpu) = onnx::Unsqueeze[axes=[0]](%115)\n",
      "  %117 : Long(1, strides=[1], device=cpu) = onnx::Constant[value={16}]() # C:\\Users\\jiaxin.ma\\AppData\\Local\\conda\\conda\\envs\\TalkNet\\lib\\site-packages\\torch\\nn\\modules\\rnn.py:762:0\n",
      "  %120 : Long(3, strides=[1], device=cpu) = onnx::Concat[axis=0](%247, %116, %117) # C:\\Users\\jiaxin.ma\\AppData\\Local\\conda\\conda\\envs\\TalkNet\\lib\\site-packages\\torch\\nn\\modules\\rnn.py:762:0\n",
      "  %121 : Float(1, 1, 16, device=cpu) = onnx::Expand(%245, %120) # C:\\Users\\jiaxin.ma\\AppData\\Local\\conda\\conda\\envs\\TalkNet\\lib\\site-packages\\torch\\nn\\modules\\rnn.py:762:0\n",
      "  %122 : Float(5, 1, 1, 16, strides=[16, 16, 16, 1], device=cpu), %123 : Float(1, 1, 16, strides=[16, 16, 1], device=cpu), %124 : Float(1, 1, 16, strides=[16, 16, 1], device=cpu) = onnx::LSTM[hidden_size=16](%38, %241, %242, %243, %39, %112, %121) # C:\\Users\\jiaxin.ma\\AppData\\Local\\conda\\conda\\envs\\TalkNet\\lib\\site-packages\\torch\\nn\\modules\\rnn.py:762:0\n",
      "  %125 : Float(5, 1, 16, strides=[16, 16, 1], device=cpu) = onnx::Squeeze[axes=[1]](%122) # C:\\Users\\jiaxin.ma\\AppData\\Local\\conda\\conda\\envs\\TalkNet\\lib\\site-packages\\torch\\nn\\modules\\rnn.py:762:0\n",
      "  %190 : Long(3, strides=[1], device=cpu) = onnx::Shape(%125) # C:\\Users\\jiaxin.ma\\AppData\\Local\\conda\\conda\\envs\\TalkNet\\lib\\site-packages\\torch\\nn\\modules\\rnn.py:762:0\n",
      "  %191 : Long(device=cpu) = onnx::Constant[value={1}]() # C:\\Users\\jiaxin.ma\\AppData\\Local\\conda\\conda\\envs\\TalkNet\\lib\\site-packages\\torch\\nn\\modules\\rnn.py:762:0\n",
      "  %192 : Long(device=cpu) = onnx::Gather(%190, %191) # C:\\Users\\jiaxin.ma\\AppData\\Local\\conda\\conda\\envs\\TalkNet\\lib\\site-packages\\torch\\nn\\modules\\rnn.py:762:0\n",
      "  %193 : Long(1, strides=[1], device=cpu) = onnx::Unsqueeze[axes=[0]](%192)\n",
      "  %194 : Long(1, strides=[1], device=cpu) = onnx::Constant[value={16}]() # C:\\Users\\jiaxin.ma\\AppData\\Local\\conda\\conda\\envs\\TalkNet\\lib\\site-packages\\torch\\nn\\modules\\rnn.py:762:0\n",
      "  %197 : Long(3, strides=[1], device=cpu) = onnx::Concat[axis=0](%270, %193, %194) # C:\\Users\\jiaxin.ma\\AppData\\Local\\conda\\conda\\envs\\TalkNet\\lib\\site-packages\\torch\\nn\\modules\\rnn.py:762:0\n",
      "  %198 : Float(1, 1, 16, device=cpu) = onnx::Expand(%268, %197) # C:\\Users\\jiaxin.ma\\AppData\\Local\\conda\\conda\\envs\\TalkNet\\lib\\site-packages\\torch\\nn\\modules\\rnn.py:762:0\n",
      "  %199 : Long(3, strides=[1], device=cpu) = onnx::Shape(%125) # C:\\Users\\jiaxin.ma\\AppData\\Local\\conda\\conda\\envs\\TalkNet\\lib\\site-packages\\torch\\nn\\modules\\rnn.py:762:0\n",
      "  %200 : Long(device=cpu) = onnx::Constant[value={1}]() # C:\\Users\\jiaxin.ma\\AppData\\Local\\conda\\conda\\envs\\TalkNet\\lib\\site-packages\\torch\\nn\\modules\\rnn.py:762:0\n",
      "  %201 : Long(device=cpu) = onnx::Gather(%199, %200) # C:\\Users\\jiaxin.ma\\AppData\\Local\\conda\\conda\\envs\\TalkNet\\lib\\site-packages\\torch\\nn\\modules\\rnn.py:762:0\n",
      "  %202 : Long(1, strides=[1], device=cpu) = onnx::Unsqueeze[axes=[0]](%201)\n",
      "  %203 : Long(1, strides=[1], device=cpu) = onnx::Constant[value={16}]() # C:\\Users\\jiaxin.ma\\AppData\\Local\\conda\\conda\\envs\\TalkNet\\lib\\site-packages\\torch\\nn\\modules\\rnn.py:762:0\n",
      "  %206 : Long(3, strides=[1], device=cpu) = onnx::Concat[axis=0](%271, %202, %203) # C:\\Users\\jiaxin.ma\\AppData\\Local\\conda\\conda\\envs\\TalkNet\\lib\\site-packages\\torch\\nn\\modules\\rnn.py:762:0\n",
      "  %207 : Float(1, 1, 16, device=cpu) = onnx::Expand(%269, %206) # C:\\Users\\jiaxin.ma\\AppData\\Local\\conda\\conda\\envs\\TalkNet\\lib\\site-packages\\torch\\nn\\modules\\rnn.py:762:0\n",
      "  %208 : Float(5, 1, 1, 16, strides=[16, 16, 16, 1], device=cpu), %209 : Float(1, 1, 16, strides=[16, 16, 1], device=cpu), %210 : Float(1, 1, 16, strides=[16, 16, 1], device=cpu) = onnx::LSTM[hidden_size=16](%125, %265, %266, %267, %39, %198, %207) # C:\\Users\\jiaxin.ma\\AppData\\Local\\conda\\conda\\envs\\TalkNet\\lib\\site-packages\\torch\\nn\\modules\\rnn.py:762:0\n",
      "  %211 : Float(5, 1, 16, strides=[16, 16, 1], device=cpu) = onnx::Squeeze[axes=[1]](%208) # C:\\Users\\jiaxin.ma\\AppData\\Local\\conda\\conda\\envs\\TalkNet\\lib\\site-packages\\torch\\nn\\modules\\rnn.py:762:0\n",
      "  %212 : Float(1, 5, 16, strides=[16, 16, 1], requires_grad=1, device=cuda:0) = onnx::Transpose[perm=[1, 0, 2]](%211) # C:\\Users\\jiaxin.ma\\AppData\\Local\\conda\\conda\\envs\\TalkNet\\lib\\site-packages\\torch\\nn\\modules\\rnn.py:762:0\n",
      "  %213 : Long(device=cpu) = onnx::Constant[value={-1}]()\n",
      "  %214 : Float(1, 16, strides=[16, 1], requires_grad=1, device=cuda:0) = onnx::Gather[axis=1](%212, %213) # <ipython-input-14-e481cc8a571d>:31:0\n",
      "  %output : Float(1, 1, strides=[1, 1], requires_grad=1, device=cuda:0) = onnx::Gemm[alpha=1., beta=1., transB=1](%214, %fc.weight, %fc.bias) # C:\\Users\\jiaxin.ma\\AppData\\Local\\conda\\conda\\envs\\TalkNet\\lib\\site-packages\\torch\\nn\\modules\\linear.py:103:0\n",
      "  return (%output)\n",
      "\n"
     ]
    }
   ],
   "source": [
    "torch.onnx.export(model, x_val[:1,:], 'lstm.onnx', verbose=True,\n",
    "                  input_names=[\"input\"], output_names=[\"output\"],\n",
    "                  opset_version=11) # output model only accept batch_size=1"
   ]
  },
  {
   "cell_type": "code",
   "execution_count": null,
   "metadata": {},
   "outputs": [],
   "source": []
  }
 ],
 "metadata": {
  "kernelspec": {
   "display_name": "Python 3",
   "language": "python",
   "name": "python3"
  },
  "language_info": {
   "codemirror_mode": {
    "name": "ipython",
    "version": 3
   },
   "file_extension": ".py",
   "mimetype": "text/x-python",
   "name": "python",
   "nbconvert_exporter": "python",
   "pygments_lexer": "ipython3",
   "version": "3.7.9"
  }
 },
 "nbformat": 4,
 "nbformat_minor": 4
}
