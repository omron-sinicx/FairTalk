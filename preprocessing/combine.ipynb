{
 "cells": [
  {
   "cell_type": "markdown",
   "metadata": {},
   "source": [
    "# Combine the .csv files of TalkNet and OpenFace into one file"
   ]
  },
  {
   "cell_type": "code",
   "execution_count": 24,
   "metadata": {},
   "outputs": [],
   "source": [
    "import pandas as pd\n",
    "import numpy as np\n",
    "from scipy.optimize import linear_sum_assignment"
   ]
  },
  {
   "cell_type": "code",
   "execution_count": 2,
   "metadata": {},
   "outputs": [],
   "source": [
    "# parameters\n",
    "file_openface = \"./zoom_meeting_720p.csv\"\n",
    "file_talknet = \"./out.csv\"\n",
    "file_output = \"./combined.csv\"\n",
    "threshold=0.1 # min IOU to determine a combination"
   ]
  },
  {
   "cell_type": "code",
   "execution_count": null,
   "metadata": {},
   "outputs": [],
   "source": [
    "face = pd.read_csv(file_openface) # OpenFace\n",
    "asd = pd.read_csv(file_talknet) # TalkNet"
   ]
  },
  {
   "cell_type": "markdown",
   "metadata": {},
   "source": [
    "calculate bounding boxes for OpenFace"
   ]
  },
  {
   "cell_type": "code",
   "execution_count": 3,
   "metadata": {},
   "outputs": [],
   "source": [
    "# the index of 2d-landmarks\n",
    "x1,x2,y1,y2=face.columns.get_loc(\"x_0\"),face.columns.get_loc(\"x_67\"),face.columns.get_loc(\"y_0\"),face.columns.get_loc(\"y_67\")\n",
    "xmin,xmax,ymin,ymax=np.min(face.iloc[:,x1:x2],axis=1),np.max(face.iloc[:,x1:x2],axis=1),np.min(face.iloc[:,y1:y2],axis=1),np.max(face.iloc[:,y1:y2],axis=1)\n",
    "face['xmin'], face['ymin'], face['xmax'], face['ymax'] = [xmin,ymin,xmax,ymax]"
   ]
  },
  {
   "cell_type": "code",
   "execution_count": 4,
   "metadata": {},
   "outputs": [],
   "source": [
    "def bb_intersection_over_union(boxA, boxB, evalCol = False):\n",
    "\t# CPU: IOU Function to calculate overlap between two image\n",
    "\txA = max(boxA[0], boxB[0])\n",
    "\tyA = max(boxA[1], boxB[1])\n",
    "\txB = min(boxA[2], boxB[2])\n",
    "\tyB = min(boxA[3], boxB[3])\n",
    "\tinterArea = max(0, xB - xA) * max(0, yB - yA)\n",
    "\tboxAArea = (boxA[2] - boxA[0]) * (boxA[3] - boxA[1])\n",
    "\tboxBArea = (boxB[2] - boxB[0]) * (boxB[3] - boxB[1])\n",
    "\tif evalCol == True:\n",
    "\t\tiou = interArea / float(boxAArea)\n",
    "\telse:\n",
    "\t\tiou = interArea / float(boxAArea + boxBArea - interArea)\n",
    "\treturn iou"
   ]
  },
  {
   "cell_type": "markdown",
   "metadata": {},
   "source": [
    "combining"
   ]
  },
  {
   "cell_type": "code",
   "execution_count": 46,
   "metadata": {},
   "outputs": [],
   "source": [
    "maxframe = max(face[\"frame\"].max(),asd[\"frame\"].max())\n",
    "temp=[]\n",
    "asd_dummy = [np.NaN]*len(asd.columns)\n",
    "face_dummy = [np.NaN]*len(face.columns)\n",
    "\n",
    "# for i in range(11):\n",
    "for i in range(maxframe+1):\n",
    "    df_face = face.loc[face['frame']==i]\n",
    "    df_asd = asd.loc[asd['frame']==i]\n",
    "    if (not df_face.empty) and (not df_asd.empty):\n",
    "        # combine df_face and df_asd\n",
    "        IOU = np.empty((len(df_face)*2,len(df_asd)*2)); IOU.fill(threshold)\n",
    "        bboxA = df_face[['xmin', 'ymin', 'xmax', 'ymax']]\n",
    "        bboxB = df_asd[['bbox_xmin', 'bbox_ymin', 'bbox_xmax', 'bbox_ymax']]\n",
    "        for j in range(len(df_face)): # row\n",
    "            for k in range(len(df_asd)): # col\n",
    "                # calculate IOU\n",
    "                IOU[j][k]=bb_intersection_over_union(list(bboxA.iloc[j]), list(bboxB.iloc[k]))\n",
    "        row_ind, col_ind = linear_sum_assignment(-IOU)\n",
    "        # combine df_face and df_asd by row_ind, col_ind\n",
    "        idx=0\n",
    "        asd_dummy[0]=i\n",
    "        face_dummy[0]=i    \n",
    "        for j in range(max(len(df_asd),len(df_face))):\n",
    "            if col_ind[idx] < len(df_asd):\n",
    "                left = list(df_asd.iloc[col_ind[idx]])\n",
    "            else:\n",
    "                left = asd_dummy\n",
    "            if row_ind[idx] < len(df_face):\n",
    "                right = list(df_face.iloc[row_ind[idx]])\n",
    "            else:\n",
    "                right = face_dummy\n",
    "            temp.append(left + right[1:])            \n",
    "            idx+=1\n",
    "result = temp"
   ]
  },
  {
   "cell_type": "code",
   "execution_count": 47,
   "metadata": {},
   "outputs": [],
   "source": [
    "columns = list(asd.columns)+list(face.columns)[1:]\n",
    "out = pd.DataFrame(result, columns =columns)\n",
    "out.to_csv(file_output,index=False)"
   ]
  },
  {
   "cell_type": "code",
   "execution_count": null,
   "metadata": {},
   "outputs": [],
   "source": [
    "# show rows with NaN (face_id and track_id not paired)\n",
    "is_NaN = df. isnull()\n",
    "row_has_NaN = is_NaN. any(axis=1)\n",
    "rows_with_NaN = df[row_has_NaN]\n",
    "print(rows_with_NaN)"
   ]
  }
 ],
 "metadata": {
  "kernelspec": {
   "display_name": "Python 3",
   "language": "python",
   "name": "python3"
  },
  "language_info": {
   "codemirror_mode": {
    "name": "ipython",
    "version": 3
   },
   "file_extension": ".py",
   "mimetype": "text/x-python",
   "name": "python",
   "nbconvert_exporter": "python",
   "pygments_lexer": "ipython3",
   "version": "3.7.9"
  }
 },
 "nbformat": 4,
 "nbformat_minor": 4
}
