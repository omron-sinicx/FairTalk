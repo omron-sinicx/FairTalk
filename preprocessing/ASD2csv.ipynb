{
 "cells": [
  {
   "cell_type": "markdown",
   "metadata": {},
   "source": [
    "## Convert the output files of TalkNet to .csv file"
   ]
  },
  {
   "cell_type": "code",
   "execution_count": 1,
   "metadata": {},
   "outputs": [],
   "source": [
    "import pickle\n",
    "import pandas as pd\n",
    "import numpy as np"
   ]
  },
  {
   "cell_type": "code",
   "execution_count": null,
   "metadata": {},
   "outputs": [],
   "source": [
    "# parameters\n",
    "path='./demo/002/pywork/' # change the path (of TalkNet output files) here\n",
    "file_output = './out.csv'"
   ]
  },
  {
   "cell_type": "code",
   "execution_count": 2,
   "metadata": {},
   "outputs": [],
   "source": [
    "filename=['faces.pckl', 'scene.pckl', 'scores.pckl', 'tracks.pckl']\n",
    "with open(path+filename[3], 'rb') as f:\n",
    "    data = pickle.load(f)\n",
    "with open(path+filename[2], 'rb') as f:\n",
    "    scoredata = pickle.load(f)\n",
    "with open(path+filename[1], 'rb') as f:\n",
    "    scenedata = pickle.load(f)"
   ]
  },
  {
   "cell_type": "code",
   "execution_count": 42,
   "metadata": {},
   "outputs": [
    {
     "name": "stdout",
     "output_type": "stream",
     "text": [
      "[(00:00:00.000 [frame=0, fps=25.000], 00:27:20.520 [frame=41013, fps=25.000]), (00:27:20.520 [frame=41013, fps=25.000], 00:30:33.880 [frame=45847, fps=25.000])]\n",
      "[0, 41013]\n"
     ]
    }
   ],
   "source": [
    "# get scene_id (which is the start frame of each scene)\n",
    "print(scenedata)\n",
    "# print(len(scenedata))\n",
    "scene_id=[]\n",
    "for i in range(len(scenedata)):\n",
    "    id = int(str(scenedata[i]).split(\",\")[0].split(\"=\")[-1])\n",
    "    scene_id.append(id)\n",
    "print(scene_id)    "
   ]
  },
  {
   "cell_type": "code",
   "execution_count": 51,
   "metadata": {},
   "outputs": [
    {
     "name": "stdout",
     "output_type": "stream",
     "text": [
      "track: 0 start frame: 5\n",
      "scene is now 0\n",
      "track: 1 start frame: 8\n",
      "track: 2 start frame: 8\n",
      "track: 3 start frame: 19182\n",
      "track: 4 start frame: 41014\n",
      "scene is now 1\n",
      "track: 5 start frame: 41014\n"
     ]
    }
   ],
   "source": [
    "d,df=[],[]\n",
    "scene=-1\n",
    "for i in range(len(data)):\n",
    "    # if the start frame of a track == the start frame of a scene, the scene_id+=1\n",
    "    print(\"track:\",i,\"start frame:\",data[i]['track']['frame'][0])\n",
    "    if scene+1 < len(scene_id):\n",
    "#         print(scene_id[scene+1])\n",
    "        if data[i]['track']['frame'][0] > scene_id[scene+1]:\n",
    "            scene+=1\n",
    "            print(\"scene is now\", scene)\n",
    "        \n",
    "    d.append({'frame':data[i]['track']['frame'], \n",
    "              'scene_id':scene,\n",
    "              'track_id':i,\n",
    "              'ASDscore':np.append(0, scoredata[i]), # len(scoredata) = len(data)-1, so add 0 at the head\n",
    "              'bbox_xmin':data[i]['track']['bbox'][:,0], \n",
    "              'bbox_ymin':data[i]['track']['bbox'][:,1], \n",
    "              'bbox_xmax':data[i]['track']['bbox'][:,2],\n",
    "              'bbox_ymax':data[i]['track']['bbox'][:,3]})\n",
    "    df.append(pd.DataFrame(data=d[i]))\n",
    "\n",
    "# note: 'track_id' works like 'face_id', but it changes when 1) the scene change is detected, 2) the bbox IOU of previous frame and current frame is < 0.5 "
   ]
  },
  {
   "cell_type": "code",
   "execution_count": 52,
   "metadata": {},
   "outputs": [
    {
     "name": "stdout",
     "output_type": "stream",
     "text": [
      "      frame  scene_id  track_id  ASDscore   bbox_xmin   bbox_ymin  \\\n",
      "0         5         0         0       0.0  900.346802   99.506721   \n",
      "1         6         0         0      -1.2  899.307800   99.881485   \n",
      "2         7         0         0      -1.2  898.599243   99.857483   \n",
      "3         8         0         0      -1.3  898.367065  100.132935   \n",
      "4         9         0         0      -0.9  898.750732  100.211151   \n",
      "...     ...       ...       ...       ...         ...         ...   \n",
      "4828  45842         1         5      -0.9  292.144989  242.426910   \n",
      "4829  45843         1         5      -1.1  292.370880  243.091888   \n",
      "4830  45844         1         5      -1.3  291.979736  244.478958   \n",
      "4831  45845         1         5      -1.1  292.145660  245.177017   \n",
      "4832  45846         1         5      -0.8  291.484253  246.277451   \n",
      "\n",
      "        bbox_xmax   bbox_ymax  \n",
      "0     1035.601685  270.375000  \n",
      "1     1034.697144  270.694061  \n",
      "2     1034.214111  270.299805  \n",
      "3     1034.057495  270.290222  \n",
      "4     1034.397583  270.426636  \n",
      "...           ...         ...  \n",
      "4828   413.016937  413.865509  \n",
      "4829   413.241852  414.916412  \n",
      "4830   414.172516  414.654144  \n",
      "4831   414.551025  415.606628  \n",
      "4832   414.231720  415.130768  \n",
      "\n",
      "[132657 rows x 8 columns]\n",
      "      frame  scene_id  track_id  ASDscore   bbox_xmin   bbox_ymin  \\\n",
      "0         5         0         0       0.0  900.346802   99.506721   \n",
      "1         6         0         0      -1.2  899.307800   99.881485   \n",
      "2         7         0         0      -1.2  898.599243   99.857483   \n",
      "3         8         0         0      -1.3  898.367065  100.132935   \n",
      "0         8         0         1       0.0  245.782333  151.205399   \n",
      "...     ...       ...       ...       ...         ...         ...   \n",
      "4830  45844         1         5      -1.3  291.979736  244.478958   \n",
      "4831  45845         1         4      -0.1  921.296448  268.290283   \n",
      "4831  45845         1         5      -1.1  292.145660  245.177017   \n",
      "4832  45846         1         4       0.1  921.283813  268.010468   \n",
      "4832  45846         1         5      -0.8  291.484253  246.277451   \n",
      "\n",
      "        bbox_xmax   bbox_ymax  \n",
      "0     1035.601685  270.375000  \n",
      "1     1034.697144  270.694061  \n",
      "2     1034.214111  270.299805  \n",
      "3     1034.057495  270.290222  \n",
      "0      359.406738  300.571472  \n",
      "...           ...         ...  \n",
      "4830   414.172516  414.654144  \n",
      "4831  1037.752075  429.346161  \n",
      "4831   414.551025  415.606628  \n",
      "4832  1037.673096  429.094391  \n",
      "4832   414.231720  415.130768  \n",
      "\n",
      "[132657 rows x 8 columns]\n"
     ]
    }
   ],
   "source": [
    "result = pd.concat(df)\n",
    "result_sort=result.sort_values(by=[\"frame\", \"track_id\"])\n",
    "# print(result)\n",
    "# print(result_sort)\n",
    "result_sort.to_csv(file_output,index=False)"
   ]
  },
  {
   "cell_type": "code",
   "execution_count": null,
   "metadata": {},
   "outputs": [],
   "source": []
  }
 ],
 "metadata": {
  "kernelspec": {
   "display_name": "Python 3",
   "language": "python",
   "name": "python3"
  },
  "language_info": {
   "codemirror_mode": {
    "name": "ipython",
    "version": 3
   },
   "file_extension": ".py",
   "mimetype": "text/x-python",
   "name": "python",
   "nbconvert_exporter": "python",
   "pygments_lexer": "ipython3",
   "version": "3.7.9"
  }
 },
 "nbformat": 4,
 "nbformat_minor": 4
}
